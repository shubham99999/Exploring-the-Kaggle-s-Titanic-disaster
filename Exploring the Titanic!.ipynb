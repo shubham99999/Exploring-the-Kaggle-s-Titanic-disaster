{
 "cells": [
  {
   "cell_type": "code",
   "execution_count": 1,
   "metadata": {
    "collapsed": true
   },
   "outputs": [],
   "source": [
    "from sklearn.linear_model import LogisticRegression\n",
    "import numpy as np\n",
    "import pandas as pd\n",
    "from decimal import Decimal"
   ]
  },
  {
   "cell_type": "markdown",
   "metadata": {},
   "source": [
    "# Loading The Train-Test csv files"
   ]
  },
  {
   "cell_type": "code",
   "execution_count": 2,
   "metadata": {},
   "outputs": [
    {
     "data": {
      "text/plain": [
       "(891, 12)"
      ]
     },
     "execution_count": 2,
     "metadata": {},
     "output_type": "execute_result"
    }
   ],
   "source": [
    "train_data=pd.read_csv(\"kaggle_titanic_train.csv\",delimiter=\",\")\n",
    "test_data= pd.read_csv(\"kaggle_titanic_test.csv\",delimiter=\",\")\n",
    "train_data.shape"
   ]
  },
  {
   "cell_type": "code",
   "execution_count": 3,
   "metadata": {
    "collapsed": true
   },
   "outputs": [],
   "source": [
    "Passengers_test= test_data['PassengerId']"
   ]
  },
  {
   "cell_type": "code",
   "execution_count": 4,
   "metadata": {},
   "outputs": [
    {
     "data": {
      "text/plain": [
       "0    892\n",
       "1    893\n",
       "2    894\n",
       "3    895\n",
       "4    896\n",
       "Name: PassengerId, dtype: int64"
      ]
     },
     "execution_count": 4,
     "metadata": {},
     "output_type": "execute_result"
    }
   ],
   "source": [
    "Passengers_test.head()"
   ]
  },
  {
   "cell_type": "code",
   "execution_count": 5,
   "metadata": {},
   "outputs": [
    {
     "data": {
      "text/html": [
       "<div>\n",
       "<style>\n",
       "    .dataframe thead tr:only-child th {\n",
       "        text-align: right;\n",
       "    }\n",
       "\n",
       "    .dataframe thead th {\n",
       "        text-align: left;\n",
       "    }\n",
       "\n",
       "    .dataframe tbody tr th {\n",
       "        vertical-align: top;\n",
       "    }\n",
       "</style>\n",
       "<table border=\"1\" class=\"dataframe\">\n",
       "  <thead>\n",
       "    <tr style=\"text-align: right;\">\n",
       "      <th></th>\n",
       "      <th>Pclass</th>\n",
       "      <th>Name</th>\n",
       "      <th>Sex</th>\n",
       "      <th>Age</th>\n",
       "      <th>SibSp</th>\n",
       "      <th>Parch</th>\n",
       "      <th>Ticket</th>\n",
       "      <th>Fare</th>\n",
       "      <th>Cabin</th>\n",
       "      <th>Embarked</th>\n",
       "      <th>PassengerId</th>\n",
       "      <th>Survived</th>\n",
       "    </tr>\n",
       "  </thead>\n",
       "  <tbody>\n",
       "    <tr>\n",
       "      <th>0</th>\n",
       "      <td>3</td>\n",
       "      <td>Braund, Mr. Owen Harris</td>\n",
       "      <td>male</td>\n",
       "      <td>22.0</td>\n",
       "      <td>1</td>\n",
       "      <td>0</td>\n",
       "      <td>A/5 21171</td>\n",
       "      <td>7.2500</td>\n",
       "      <td>NaN</td>\n",
       "      <td>S</td>\n",
       "      <td>1</td>\n",
       "      <td>0</td>\n",
       "    </tr>\n",
       "    <tr>\n",
       "      <th>1</th>\n",
       "      <td>1</td>\n",
       "      <td>Cumings, Mrs. John Bradley (Florence Briggs Th...</td>\n",
       "      <td>female</td>\n",
       "      <td>38.0</td>\n",
       "      <td>1</td>\n",
       "      <td>0</td>\n",
       "      <td>PC 17599</td>\n",
       "      <td>71.2833</td>\n",
       "      <td>C85</td>\n",
       "      <td>C</td>\n",
       "      <td>2</td>\n",
       "      <td>1</td>\n",
       "    </tr>\n",
       "    <tr>\n",
       "      <th>2</th>\n",
       "      <td>3</td>\n",
       "      <td>Heikkinen, Miss. Laina</td>\n",
       "      <td>female</td>\n",
       "      <td>26.0</td>\n",
       "      <td>0</td>\n",
       "      <td>0</td>\n",
       "      <td>STON/O2. 3101282</td>\n",
       "      <td>7.9250</td>\n",
       "      <td>NaN</td>\n",
       "      <td>S</td>\n",
       "      <td>3</td>\n",
       "      <td>1</td>\n",
       "    </tr>\n",
       "    <tr>\n",
       "      <th>3</th>\n",
       "      <td>1</td>\n",
       "      <td>Futrelle, Mrs. Jacques Heath (Lily May Peel)</td>\n",
       "      <td>female</td>\n",
       "      <td>35.0</td>\n",
       "      <td>1</td>\n",
       "      <td>0</td>\n",
       "      <td>113803</td>\n",
       "      <td>53.1000</td>\n",
       "      <td>C123</td>\n",
       "      <td>S</td>\n",
       "      <td>4</td>\n",
       "      <td>1</td>\n",
       "    </tr>\n",
       "    <tr>\n",
       "      <th>4</th>\n",
       "      <td>3</td>\n",
       "      <td>Allen, Mr. William Henry</td>\n",
       "      <td>male</td>\n",
       "      <td>35.0</td>\n",
       "      <td>0</td>\n",
       "      <td>0</td>\n",
       "      <td>373450</td>\n",
       "      <td>8.0500</td>\n",
       "      <td>NaN</td>\n",
       "      <td>S</td>\n",
       "      <td>5</td>\n",
       "      <td>0</td>\n",
       "    </tr>\n",
       "  </tbody>\n",
       "</table>\n",
       "</div>"
      ],
      "text/plain": [
       "   Pclass                                               Name     Sex   Age  \\\n",
       "0       3                            Braund, Mr. Owen Harris    male  22.0   \n",
       "1       1  Cumings, Mrs. John Bradley (Florence Briggs Th...  female  38.0   \n",
       "2       3                             Heikkinen, Miss. Laina  female  26.0   \n",
       "3       1       Futrelle, Mrs. Jacques Heath (Lily May Peel)  female  35.0   \n",
       "4       3                           Allen, Mr. William Henry    male  35.0   \n",
       "\n",
       "   SibSp  Parch            Ticket     Fare Cabin Embarked  PassengerId  \\\n",
       "0      1      0         A/5 21171   7.2500   NaN        S            1   \n",
       "1      1      0          PC 17599  71.2833   C85        C            2   \n",
       "2      0      0  STON/O2. 3101282   7.9250   NaN        S            3   \n",
       "3      1      0            113803  53.1000  C123        S            4   \n",
       "4      0      0            373450   8.0500   NaN        S            5   \n",
       "\n",
       "   Survived  \n",
       "0         0  \n",
       "1         1  \n",
       "2         1  \n",
       "3         1  \n",
       "4         0  "
      ]
     },
     "execution_count": 5,
     "metadata": {},
     "output_type": "execute_result"
    }
   ],
   "source": [
    "cols=train_data.columns.tolist()\n",
    "cols= cols[-10:]+ cols[:-10]\n",
    "cols\n",
    "train_data= train_data[cols]\n",
    "train_data.head()           "
   ]
  },
  {
   "cell_type": "code",
   "execution_count": 6,
   "metadata": {},
   "outputs": [
    {
     "data": {
      "text/plain": [
       "((891, 12), (891, 1))"
      ]
     },
     "execution_count": 6,
     "metadata": {},
     "output_type": "execute_result"
    }
   ],
   "source": [
    "X_train=train_data.iloc[:,:] # actually x_y_train!\n",
    "Y_train=train_data.iloc[:,11:]\n",
    "X_train.shape , Y_train.shape"
   ]
  },
  {
   "cell_type": "markdown",
   "metadata": {},
   "source": [
    "# Checking if the X_train dataframe consists of any null values"
   ]
  },
  {
   "cell_type": "code",
   "execution_count": 7,
   "metadata": {},
   "outputs": [
    {
     "data": {
      "text/plain": [
       "Pclass           0\n",
       "Name             0\n",
       "Sex              0\n",
       "Age            177\n",
       "SibSp            0\n",
       "Parch            0\n",
       "Ticket           0\n",
       "Fare             0\n",
       "Cabin          687\n",
       "Embarked         2\n",
       "PassengerId      0\n",
       "Survived         0\n",
       "dtype: int64"
      ]
     },
     "execution_count": 7,
     "metadata": {},
     "output_type": "execute_result"
    }
   ],
   "source": [
    "X_train.isnull().sum()"
   ]
  },
  {
   "cell_type": "code",
   "execution_count": 8,
   "metadata": {},
   "outputs": [
    {
     "data": {
      "text/plain": [
       "['Pclass',\n",
       " 'Name',\n",
       " 'Sex',\n",
       " 'Age',\n",
       " 'SibSp',\n",
       " 'Parch',\n",
       " 'Ticket',\n",
       " 'Fare',\n",
       " 'Cabin',\n",
       " 'Embarked',\n",
       " 'PassengerId',\n",
       " 'Survived']"
      ]
     },
     "execution_count": 8,
     "metadata": {},
     "output_type": "execute_result"
    }
   ],
   "source": [
    "X_train.columns.tolist()"
   ]
  },
  {
   "cell_type": "code",
   "execution_count": 9,
   "metadata": {},
   "outputs": [
    {
     "data": {
      "image/png": "[encoded data removed]",
      "text/plain": [
       "<matplotlib.figure.Figure at 0x1cebdca1320>"
      ]
     },
     "metadata": {},
     "output_type": "display_data"
    }
   ],
   "source": [
    "import matplotlib.pyplot as plt\n",
    "import pandas\n",
    "import numpy\n",
    "#url = \"https://raw.githubusercontent.com/jbrownlee/Datasets/master/pima-indians-diabetes.data.csv\"\n",
    "#names = ['preg', 'plas', 'pres', 'skin', 'test', 'mass', 'pedi', 'age', 'class']\n",
    "#data = pandas.read_csv(url, names=names)\n",
    "correlations = X_train.corr()\n",
    "names= X_train.columns.tolist()\n",
    "# plot correlation matrix\n",
    "fig = plt.figure()\n",
    "ax = fig.add_subplot(111)\n",
    "cax = ax.matshow(correlations, vmin=-1, vmax=1)\n",
    "fig.colorbar(cax)\n",
    "ticks = numpy.arange(0,8,1)\n",
    "ax.set_xticks(ticks)\n",
    "ax.set_yticks(ticks)\n",
    "ax.set_xticklabels(names)\n",
    "ax.set_yticklabels(names)\n",
    "plt.show()"
   ]
  },
  {
   "cell_type": "code",
   "execution_count": 10,
   "metadata": {},
   "outputs": [
    {
     "data": {
      "text/html": [
       "<div>\n",
       "<style>\n",
       "    .dataframe thead tr:only-child th {\n",
       "        text-align: right;\n",
       "    }\n",
       "\n",
       "    .dataframe thead th {\n",
       "        text-align: left;\n",
       "    }\n",
       "\n",
       "    .dataframe tbody tr th {\n",
       "        vertical-align: top;\n",
       "    }\n",
       "</style>\n",
       "<table border=\"1\" class=\"dataframe\">\n",
       "  <thead>\n",
       "    <tr style=\"text-align: right;\">\n",
       "      <th></th>\n",
       "      <th>Pclass</th>\n",
       "      <th>Sex</th>\n",
       "      <th>Age</th>\n",
       "      <th>SibSp</th>\n",
       "      <th>Parch</th>\n",
       "      <th>Fare</th>\n",
       "      <th>Embarked</th>\n",
       "      <th>Survived</th>\n",
       "    </tr>\n",
       "  </thead>\n",
       "  <tbody>\n",
       "    <tr>\n",
       "      <th>0</th>\n",
       "      <td>3</td>\n",
       "      <td>male</td>\n",
       "      <td>22.0</td>\n",
       "      <td>1</td>\n",
       "      <td>0</td>\n",
       "      <td>7.2500</td>\n",
       "      <td>S</td>\n",
       "      <td>0</td>\n",
       "    </tr>\n",
       "    <tr>\n",
       "      <th>1</th>\n",
       "      <td>1</td>\n",
       "      <td>female</td>\n",
       "      <td>38.0</td>\n",
       "      <td>1</td>\n",
       "      <td>0</td>\n",
       "      <td>71.2833</td>\n",
       "      <td>C</td>\n",
       "      <td>1</td>\n",
       "    </tr>\n",
       "    <tr>\n",
       "      <th>2</th>\n",
       "      <td>3</td>\n",
       "      <td>female</td>\n",
       "      <td>26.0</td>\n",
       "      <td>0</td>\n",
       "      <td>0</td>\n",
       "      <td>7.9250</td>\n",
       "      <td>S</td>\n",
       "      <td>1</td>\n",
       "    </tr>\n",
       "    <tr>\n",
       "      <th>3</th>\n",
       "      <td>1</td>\n",
       "      <td>female</td>\n",
       "      <td>35.0</td>\n",
       "      <td>1</td>\n",
       "      <td>0</td>\n",
       "      <td>53.1000</td>\n",
       "      <td>S</td>\n",
       "      <td>1</td>\n",
       "    </tr>\n",
       "    <tr>\n",
       "      <th>4</th>\n",
       "      <td>3</td>\n",
       "      <td>male</td>\n",
       "      <td>35.0</td>\n",
       "      <td>0</td>\n",
       "      <td>0</td>\n",
       "      <td>8.0500</td>\n",
       "      <td>S</td>\n",
       "      <td>0</td>\n",
       "    </tr>\n",
       "  </tbody>\n",
       "</table>\n",
       "</div>"
      ],
      "text/plain": [
       "   Pclass     Sex   Age  SibSp  Parch     Fare Embarked  Survived\n",
       "0       3    male  22.0      1      0   7.2500        S         0\n",
       "1       1  female  38.0      1      0  71.2833        C         1\n",
       "2       3  female  26.0      0      0   7.9250        S         1\n",
       "3       1  female  35.0      1      0  53.1000        S         1\n",
       "4       3    male  35.0      0      0   8.0500        S         0"
      ]
     },
     "execution_count": 10,
     "metadata": {},
     "output_type": "execute_result"
    }
   ],
   "source": [
    "X_train.drop('PassengerId',axis=1,inplace=True)\n",
    "X_train.drop('Name',axis=1,inplace=True)\n",
    "X_train.drop('Ticket',axis=1,inplace=True)\n",
    "X_train.drop('Cabin',axis=1,inplace=True)\n",
    "X_train.head()"
   ]
  },
  {
   "cell_type": "markdown",
   "metadata": {},
   "source": [
    "# Analysing the Age column for a better understanding"
   ]
  },
  {
   "cell_type": "code",
   "execution_count": 11,
   "metadata": {},
   "outputs": [
    {
     "name": "stderr",
     "output_type": "stream",
     "text": [
      "C:\\Users\\shubham saksham\\Anaconda3\\lib\\site-packages\\ipykernel_launcher.py:1: UserWarning: Boolean Series key will be reindexed to match DataFrame index.\n",
      "  \"\"\"Entry point for launching an IPython kernel.\n",
      "C:\\Users\\shubham saksham\\Anaconda3\\lib\\site-packages\\ipykernel_launcher.py:2: UserWarning: Boolean Series key will be reindexed to match DataFrame index.\n",
      "  \n",
      "C:\\Users\\shubham saksham\\Anaconda3\\lib\\site-packages\\ipykernel_launcher.py:3: UserWarning: Boolean Series key will be reindexed to match DataFrame index.\n",
      "  This is separate from the ipykernel package so we can avoid doing imports until\n",
      "C:\\Users\\shubham saksham\\Anaconda3\\lib\\site-packages\\ipykernel_launcher.py:4: UserWarning: Boolean Series key will be reindexed to match DataFrame index.\n",
      "  after removing the cwd from sys.path.\n"
     ]
    },
    {
     "data": {
      "text/plain": [
       "24.5"
      ]
     },
     "execution_count": 11,
     "metadata": {},
     "output_type": "execute_result"
    }
   ],
   "source": [
    "male_survive_age = X_train[X_train.Sex=='male'][X_train.Survived==1].Age.median() # median age of male who survived\n",
    "female_survive_age=X_train[X_train.Sex=='female'][X_train.Survived==1].Age.median()\n",
    "male_died=X_train[X_train.Sex=='male'][X_train.Survived==0].Age.median()\n",
    "female_died=X_train[X_train.Sex=='female'][X_train.Survived==0].Age.median()\n",
    "female_died\n"
   ]
  },
  {
   "cell_type": "code",
   "execution_count": 12,
   "metadata": {
    "collapsed": true
   },
   "outputs": [],
   "source": [
    "#kkn"
   ]
  },
  {
   "cell_type": "code",
   "execution_count": 13,
   "metadata": {},
   "outputs": [
    {
     "name": "stderr",
     "output_type": "stream",
     "text": [
      "C:\\Users\\shubham saksham\\Anaconda3\\lib\\site-packages\\ipykernel_launcher.py:1: UserWarning: Boolean Series key will be reindexed to match DataFrame index.\n",
      "  \"\"\"Entry point for launching an IPython kernel.\n",
      "C:\\Users\\shubham saksham\\Anaconda3\\lib\\site-packages\\ipykernel_launcher.py:2: UserWarning: Boolean Series key will be reindexed to match DataFrame index.\n",
      "  \n",
      "C:\\Users\\shubham saksham\\Anaconda3\\lib\\site-packages\\ipykernel_launcher.py:3: UserWarning: Boolean Series key will be reindexed to match DataFrame index.\n",
      "  This is separate from the ipykernel package so we can avoid doing imports until\n",
      "C:\\Users\\shubham saksham\\Anaconda3\\lib\\site-packages\\ipykernel_launcher.py:4: UserWarning: Boolean Series key will be reindexed to match DataFrame index.\n",
      "  after removing the cwd from sys.path.\n"
     ]
    },
    {
     "data": {
      "text/plain": [
       "Pclass       0\n",
       "Sex          0\n",
       "Age         17\n",
       "SibSp        0\n",
       "Parch        0\n",
       "Fare         0\n",
       "Embarked     0\n",
       "Survived     0\n",
       "dtype: int64"
      ]
     },
     "execution_count": 13,
     "metadata": {},
     "output_type": "execute_result"
    }
   ],
   "source": [
    "X_train[X_train.Survived==1][X_train.Sex=='male'].isnull().sum() # men who survived\n",
    "X_train[X_train.Survived==0][X_train.Sex=='male'].isnull().sum() # men who died\n",
    "X_train[X_train.Survived==1][X_train.Sex=='female'].isnull().sum() # female who survived\n",
    "X_train[X_train.Survived==0][X_train.Sex=='female'].isnull().sum() # female who died"
   ]
  },
  {
   "cell_type": "code",
   "execution_count": 14,
   "metadata": {},
   "outputs": [
    {
     "name": "stderr",
     "output_type": "stream",
     "text": [
      "C:\\Users\\shubham saksham\\Anaconda3\\lib\\site-packages\\ipykernel_launcher.py:1: UserWarning: Boolean Series key will be reindexed to match DataFrame index.\n",
      "  \"\"\"Entry point for launching an IPython kernel.\n"
     ]
    },
    {
     "data": {
      "text/plain": [
       "Pclass      0\n",
       "Sex         0\n",
       "Age         0\n",
       "SibSp       0\n",
       "Parch       0\n",
       "Fare        0\n",
       "Embarked    0\n",
       "Survived    0\n",
       "dtype: int64"
      ]
     },
     "execution_count": 14,
     "metadata": {},
     "output_type": "execute_result"
    }
   ],
   "source": [
    "df1=X_train[X_train.Survived==0][X_train.Sex=='female'] # female died\n",
    "df1.isnull().sum()\n",
    "df1.Age.fillna(female_died, inplace=True)\n",
    "df1.isnull().sum()"
   ]
  },
  {
   "cell_type": "code",
   "execution_count": 15,
   "metadata": {},
   "outputs": [
    {
     "name": "stderr",
     "output_type": "stream",
     "text": [
      "C:\\Users\\shubham saksham\\Anaconda3\\lib\\site-packages\\ipykernel_launcher.py:1: UserWarning: Boolean Series key will be reindexed to match DataFrame index.\n",
      "  \"\"\"Entry point for launching an IPython kernel.\n"
     ]
    },
    {
     "data": {
      "text/plain": [
       "Pclass      0\n",
       "Sex         0\n",
       "Age         0\n",
       "SibSp       0\n",
       "Parch       0\n",
       "Fare        0\n",
       "Embarked    0\n",
       "Survived    0\n",
       "dtype: int64"
      ]
     },
     "execution_count": 15,
     "metadata": {},
     "output_type": "execute_result"
    }
   ],
   "source": [
    "df2=X_train[X_train.Survived==0][X_train.Sex=='male'] # male died\n",
    "df2.isnull().sum()\n",
    "df2.Age.fillna(male_died, inplace=True)\n",
    "df2.isnull().sum()"
   ]
  },
  {
   "cell_type": "code",
   "execution_count": 16,
   "metadata": {},
   "outputs": [
    {
     "name": "stderr",
     "output_type": "stream",
     "text": [
      "C:\\Users\\shubham saksham\\Anaconda3\\lib\\site-packages\\ipykernel_launcher.py:1: UserWarning: Boolean Series key will be reindexed to match DataFrame index.\n",
      "  \"\"\"Entry point for launching an IPython kernel.\n"
     ]
    },
    {
     "data": {
      "text/plain": [
       "Pclass      0\n",
       "Sex         0\n",
       "Age         0\n",
       "SibSp       0\n",
       "Parch       0\n",
       "Fare        0\n",
       "Embarked    0\n",
       "Survived    0\n",
       "dtype: int64"
      ]
     },
     "execution_count": 16,
     "metadata": {},
     "output_type": "execute_result"
    }
   ],
   "source": [
    "df3=X_train[X_train.Survived==1][X_train.Sex=='male'] # male survived\n",
    "df3.isnull().sum()\n",
    "df3.Age.fillna(male_survive_age, inplace=True)\n",
    "df3.isnull().sum()"
   ]
  },
  {
   "cell_type": "code",
   "execution_count": 17,
   "metadata": {},
   "outputs": [
    {
     "name": "stderr",
     "output_type": "stream",
     "text": [
      "C:\\Users\\shubham saksham\\Anaconda3\\lib\\site-packages\\ipykernel_launcher.py:1: UserWarning: Boolean Series key will be reindexed to match DataFrame index.\n",
      "  \"\"\"Entry point for launching an IPython kernel.\n"
     ]
    },
    {
     "data": {
      "text/plain": [
       "Pclass      0\n",
       "Sex         0\n",
       "Age         0\n",
       "SibSp       0\n",
       "Parch       0\n",
       "Fare        0\n",
       "Embarked    2\n",
       "Survived    0\n",
       "dtype: int64"
      ]
     },
     "execution_count": 17,
     "metadata": {},
     "output_type": "execute_result"
    }
   ],
   "source": [
    "df4=X_train[X_train.Survived==1][X_train.Sex=='female'] # male died\n",
    "df4.isnull().sum()\n",
    "df4.Age.fillna(female_survive_age, inplace=True)\n",
    "df4.isnull().sum()"
   ]
  },
  {
   "cell_type": "markdown",
   "metadata": {},
   "source": [
    "# Replaced the Nan values of age with median age of men/women who survived or died"
   ]
  },
  {
   "cell_type": "code",
   "execution_count": 18,
   "metadata": {},
   "outputs": [
    {
     "data": {
      "text/html": [
       "<div>\n",
       "<style>\n",
       "    .dataframe thead tr:only-child th {\n",
       "        text-align: right;\n",
       "    }\n",
       "\n",
       "    .dataframe thead th {\n",
       "        text-align: left;\n",
       "    }\n",
       "\n",
       "    .dataframe tbody tr th {\n",
       "        vertical-align: top;\n",
       "    }\n",
       "</style>\n",
       "<table border=\"1\" class=\"dataframe\">\n",
       "  <thead>\n",
       "    <tr style=\"text-align: right;\">\n",
       "      <th></th>\n",
       "      <th>Pclass</th>\n",
       "      <th>Sex</th>\n",
       "      <th>Age</th>\n",
       "      <th>SibSp</th>\n",
       "      <th>Parch</th>\n",
       "      <th>Fare</th>\n",
       "      <th>Embarked</th>\n",
       "      <th>Survived</th>\n",
       "    </tr>\n",
       "  </thead>\n",
       "  <tbody>\n",
       "    <tr>\n",
       "      <th>0</th>\n",
       "      <td>3</td>\n",
       "      <td>female</td>\n",
       "      <td>14.0</td>\n",
       "      <td>0</td>\n",
       "      <td>0</td>\n",
       "      <td>7.8542</td>\n",
       "      <td>S</td>\n",
       "      <td>0</td>\n",
       "    </tr>\n",
       "    <tr>\n",
       "      <th>1</th>\n",
       "      <td>3</td>\n",
       "      <td>female</td>\n",
       "      <td>31.0</td>\n",
       "      <td>1</td>\n",
       "      <td>0</td>\n",
       "      <td>18.0000</td>\n",
       "      <td>S</td>\n",
       "      <td>0</td>\n",
       "    </tr>\n",
       "    <tr>\n",
       "      <th>2</th>\n",
       "      <td>3</td>\n",
       "      <td>female</td>\n",
       "      <td>8.0</td>\n",
       "      <td>3</td>\n",
       "      <td>1</td>\n",
       "      <td>21.0750</td>\n",
       "      <td>S</td>\n",
       "      <td>0</td>\n",
       "    </tr>\n",
       "    <tr>\n",
       "      <th>3</th>\n",
       "      <td>3</td>\n",
       "      <td>female</td>\n",
       "      <td>18.0</td>\n",
       "      <td>2</td>\n",
       "      <td>0</td>\n",
       "      <td>18.0000</td>\n",
       "      <td>S</td>\n",
       "      <td>0</td>\n",
       "    </tr>\n",
       "    <tr>\n",
       "      <th>4</th>\n",
       "      <td>3</td>\n",
       "      <td>female</td>\n",
       "      <td>40.0</td>\n",
       "      <td>1</td>\n",
       "      <td>0</td>\n",
       "      <td>9.4750</td>\n",
       "      <td>S</td>\n",
       "      <td>0</td>\n",
       "    </tr>\n",
       "  </tbody>\n",
       "</table>\n",
       "</div>"
      ],
      "text/plain": [
       "   Pclass     Sex   Age  SibSp  Parch     Fare Embarked  Survived\n",
       "0       3  female  14.0      0      0   7.8542        S         0\n",
       "1       3  female  31.0      1      0  18.0000        S         0\n",
       "2       3  female   8.0      3      1  21.0750        S         0\n",
       "3       3  female  18.0      2      0  18.0000        S         0\n",
       "4       3  female  40.0      1      0   9.4750        S         0"
      ]
     },
     "execution_count": 18,
     "metadata": {},
     "output_type": "execute_result"
    }
   ],
   "source": [
    "import pandas as pd\n",
    "X_Y_train= pd.concat([df1,df2,df3,df4])\n",
    "X_Y_train=X_Y_train.reset_index(drop=True)\n",
    "X_Y_train.head()"
   ]
  },
  {
   "cell_type": "code",
   "execution_count": 19,
   "metadata": {},
   "outputs": [
    {
     "name": "stderr",
     "output_type": "stream",
     "text": [
      "C:\\Users\\shubham saksham\\Anaconda3\\lib\\site-packages\\ipykernel_launcher.py:1: SettingWithCopyWarning: \n",
      "A value is trying to be set on a copy of a slice from a DataFrame\n",
      "\n",
      "See the caveats in the documentation: http://pandas.pydata.org/pandas-docs/stable/indexing.html#indexing-view-versus-copy\n",
      "  \"\"\"Entry point for launching an IPython kernel.\n",
      "C:\\Users\\shubham saksham\\Anaconda3\\lib\\site-packages\\ipykernel_launcher.py:2: SettingWithCopyWarning: \n",
      "A value is trying to be set on a copy of a slice from a DataFrame\n",
      "\n",
      "See the caveats in the documentation: http://pandas.pydata.org/pandas-docs/stable/indexing.html#indexing-view-versus-copy\n",
      "  \n",
      "C:\\Users\\shubham saksham\\Anaconda3\\lib\\site-packages\\ipykernel_launcher.py:3: SettingWithCopyWarning: \n",
      "A value is trying to be set on a copy of a slice from a DataFrame\n",
      "\n",
      "See the caveats in the documentation: http://pandas.pydata.org/pandas-docs/stable/indexing.html#indexing-view-versus-copy\n",
      "  This is separate from the ipykernel package so we can avoid doing imports until\n",
      "C:\\Users\\shubham saksham\\Anaconda3\\lib\\site-packages\\ipykernel_launcher.py:4: SettingWithCopyWarning: \n",
      "A value is trying to be set on a copy of a slice from a DataFrame\n",
      "\n",
      "See the caveats in the documentation: http://pandas.pydata.org/pandas-docs/stable/indexing.html#indexing-view-versus-copy\n",
      "  after removing the cwd from sys.path.\n",
      "C:\\Users\\shubham saksham\\Anaconda3\\lib\\site-packages\\ipykernel_launcher.py:5: SettingWithCopyWarning: \n",
      "A value is trying to be set on a copy of a slice from a DataFrame\n",
      "\n",
      "See the caveats in the documentation: http://pandas.pydata.org/pandas-docs/stable/indexing.html#indexing-view-versus-copy\n",
      "  \"\"\"\n"
     ]
    },
    {
     "data": {
      "text/html": [
       "<div>\n",
       "<style>\n",
       "    .dataframe thead tr:only-child th {\n",
       "        text-align: right;\n",
       "    }\n",
       "\n",
       "    .dataframe thead th {\n",
       "        text-align: left;\n",
       "    }\n",
       "\n",
       "    .dataframe tbody tr th {\n",
       "        vertical-align: top;\n",
       "    }\n",
       "</style>\n",
       "<table border=\"1\" class=\"dataframe\">\n",
       "  <thead>\n",
       "    <tr style=\"text-align: right;\">\n",
       "      <th></th>\n",
       "      <th>Pclass</th>\n",
       "      <th>Sex</th>\n",
       "      <th>Age</th>\n",
       "      <th>SibSp</th>\n",
       "      <th>Parch</th>\n",
       "      <th>Fare</th>\n",
       "      <th>Embarked</th>\n",
       "      <th>Survived</th>\n",
       "    </tr>\n",
       "  </thead>\n",
       "  <tbody>\n",
       "    <tr>\n",
       "      <th>0</th>\n",
       "      <td>3</td>\n",
       "      <td>1</td>\n",
       "      <td>14.0</td>\n",
       "      <td>0</td>\n",
       "      <td>0</td>\n",
       "      <td>7.8542</td>\n",
       "      <td>1</td>\n",
       "      <td>0</td>\n",
       "    </tr>\n",
       "    <tr>\n",
       "      <th>1</th>\n",
       "      <td>3</td>\n",
       "      <td>1</td>\n",
       "      <td>31.0</td>\n",
       "      <td>1</td>\n",
       "      <td>0</td>\n",
       "      <td>18.0000</td>\n",
       "      <td>1</td>\n",
       "      <td>0</td>\n",
       "    </tr>\n",
       "    <tr>\n",
       "      <th>2</th>\n",
       "      <td>3</td>\n",
       "      <td>1</td>\n",
       "      <td>8.0</td>\n",
       "      <td>3</td>\n",
       "      <td>1</td>\n",
       "      <td>21.0750</td>\n",
       "      <td>1</td>\n",
       "      <td>0</td>\n",
       "    </tr>\n",
       "    <tr>\n",
       "      <th>3</th>\n",
       "      <td>3</td>\n",
       "      <td>1</td>\n",
       "      <td>18.0</td>\n",
       "      <td>2</td>\n",
       "      <td>0</td>\n",
       "      <td>18.0000</td>\n",
       "      <td>1</td>\n",
       "      <td>0</td>\n",
       "    </tr>\n",
       "    <tr>\n",
       "      <th>4</th>\n",
       "      <td>3</td>\n",
       "      <td>1</td>\n",
       "      <td>40.0</td>\n",
       "      <td>1</td>\n",
       "      <td>0</td>\n",
       "      <td>9.4750</td>\n",
       "      <td>1</td>\n",
       "      <td>0</td>\n",
       "    </tr>\n",
       "  </tbody>\n",
       "</table>\n",
       "</div>"
      ],
      "text/plain": [
       "   Pclass Sex   Age  SibSp  Parch     Fare Embarked  Survived\n",
       "0       3   1  14.0      0      0   7.8542        1         0\n",
       "1       3   1  31.0      1      0  18.0000        1         0\n",
       "2       3   1   8.0      3      1  21.0750        1         0\n",
       "3       3   1  18.0      2      0  18.0000        1         0\n",
       "4       3   1  40.0      1      0   9.4750        1         0"
      ]
     },
     "execution_count": 19,
     "metadata": {},
     "output_type": "execute_result"
    }
   ],
   "source": [
    "X_Y_train.Sex[X_Y_train.Sex == 'male'] = 0\n",
    "X_Y_train.Sex[X_Y_train.Sex == 'female'] = 1\n",
    "X_Y_train.Embarked[X_Y_train.Embarked == 'S']=1\n",
    "X_Y_train.Embarked[X_Y_train.Embarked == 'C']=2\n",
    "X_Y_train.Embarked[X_Y_train.Embarked== 'Q']=3\n",
    "X_Y_train.head()"
   ]
  },
  {
   "cell_type": "code",
   "execution_count": 20,
   "metadata": {},
   "outputs": [
    {
     "data": {
      "text/plain": [
       "Pclass      0\n",
       "Sex         0\n",
       "Age         0\n",
       "SibSp       0\n",
       "Parch       0\n",
       "Fare        0\n",
       "Embarked    0\n",
       "Survived    0\n",
       "dtype: int64"
      ]
     },
     "execution_count": 20,
     "metadata": {},
     "output_type": "execute_result"
    }
   ],
   "source": [
    "X_Y_train.Embarked.fillna(1,inplace=True)\n",
    "X_Y_train.isnull().sum()"
   ]
  },
  {
   "cell_type": "markdown",
   "metadata": {},
   "source": [
    "# All Nan removed!!"
   ]
  },
  {
   "cell_type": "code",
   "execution_count": 21,
   "metadata": {},
   "outputs": [
    {
     "data": {
      "image/png": "[encoded data removed]",
      "text/plain": [
       "<matplotlib.figure.Figure at 0x1cebe480198>"
      ]
     },
     "metadata": {},
     "output_type": "display_data"
    }
   ],
   "source": [
    "import matplotlib.pyplot as plt\n",
    "plt.scatter(X_train['Age'], X_train['Survived'])\n",
    "plt.show()"
   ]
  },
  {
   "cell_type": "code",
   "execution_count": 22,
   "metadata": {
    "collapsed": true
   },
   "outputs": [],
   "source": [
    "# scaling the data\n",
    "# afterwards"
   ]
  },
  {
   "cell_type": "code",
   "execution_count": 23,
   "metadata": {},
   "outputs": [
    {
     "data": {
      "text/html": [
       "<div>\n",
       "<style>\n",
       "    .dataframe thead tr:only-child th {\n",
       "        text-align: right;\n",
       "    }\n",
       "\n",
       "    .dataframe thead th {\n",
       "        text-align: left;\n",
       "    }\n",
       "\n",
       "    .dataframe tbody tr th {\n",
       "        vertical-align: top;\n",
       "    }\n",
       "</style>\n",
       "<table border=\"1\" class=\"dataframe\">\n",
       "  <thead>\n",
       "    <tr style=\"text-align: right;\">\n",
       "      <th></th>\n",
       "      <th>Pclass</th>\n",
       "      <th>Name</th>\n",
       "      <th>Sex</th>\n",
       "      <th>Age</th>\n",
       "      <th>SibSp</th>\n",
       "      <th>Parch</th>\n",
       "      <th>Ticket</th>\n",
       "      <th>Fare</th>\n",
       "      <th>Cabin</th>\n",
       "      <th>Embarked</th>\n",
       "      <th>PassengerId</th>\n",
       "    </tr>\n",
       "  </thead>\n",
       "  <tbody>\n",
       "    <tr>\n",
       "      <th>0</th>\n",
       "      <td>3</td>\n",
       "      <td>Kelly, Mr. James</td>\n",
       "      <td>male</td>\n",
       "      <td>34.5</td>\n",
       "      <td>0</td>\n",
       "      <td>0</td>\n",
       "      <td>330911</td>\n",
       "      <td>7.8292</td>\n",
       "      <td>NaN</td>\n",
       "      <td>Q</td>\n",
       "      <td>892</td>\n",
       "    </tr>\n",
       "    <tr>\n",
       "      <th>1</th>\n",
       "      <td>3</td>\n",
       "      <td>Wilkes, Mrs. James (Ellen Needs)</td>\n",
       "      <td>female</td>\n",
       "      <td>47.0</td>\n",
       "      <td>1</td>\n",
       "      <td>0</td>\n",
       "      <td>363272</td>\n",
       "      <td>7.0000</td>\n",
       "      <td>NaN</td>\n",
       "      <td>S</td>\n",
       "      <td>893</td>\n",
       "    </tr>\n",
       "    <tr>\n",
       "      <th>2</th>\n",
       "      <td>2</td>\n",
       "      <td>Myles, Mr. Thomas Francis</td>\n",
       "      <td>male</td>\n",
       "      <td>62.0</td>\n",
       "      <td>0</td>\n",
       "      <td>0</td>\n",
       "      <td>240276</td>\n",
       "      <td>9.6875</td>\n",
       "      <td>NaN</td>\n",
       "      <td>Q</td>\n",
       "      <td>894</td>\n",
       "    </tr>\n",
       "    <tr>\n",
       "      <th>3</th>\n",
       "      <td>3</td>\n",
       "      <td>Wirz, Mr. Albert</td>\n",
       "      <td>male</td>\n",
       "      <td>27.0</td>\n",
       "      <td>0</td>\n",
       "      <td>0</td>\n",
       "      <td>315154</td>\n",
       "      <td>8.6625</td>\n",
       "      <td>NaN</td>\n",
       "      <td>S</td>\n",
       "      <td>895</td>\n",
       "    </tr>\n",
       "    <tr>\n",
       "      <th>4</th>\n",
       "      <td>3</td>\n",
       "      <td>Hirvonen, Mrs. Alexander (Helga E Lindqvist)</td>\n",
       "      <td>female</td>\n",
       "      <td>22.0</td>\n",
       "      <td>1</td>\n",
       "      <td>1</td>\n",
       "      <td>3101298</td>\n",
       "      <td>12.2875</td>\n",
       "      <td>NaN</td>\n",
       "      <td>S</td>\n",
       "      <td>896</td>\n",
       "    </tr>\n",
       "  </tbody>\n",
       "</table>\n",
       "</div>"
      ],
      "text/plain": [
       "   Pclass                                          Name     Sex   Age  SibSp  \\\n",
       "0       3                              Kelly, Mr. James    male  34.5      0   \n",
       "1       3              Wilkes, Mrs. James (Ellen Needs)  female  47.0      1   \n",
       "2       2                     Myles, Mr. Thomas Francis    male  62.0      0   \n",
       "3       3                              Wirz, Mr. Albert    male  27.0      0   \n",
       "4       3  Hirvonen, Mrs. Alexander (Helga E Lindqvist)  female  22.0      1   \n",
       "\n",
       "   Parch   Ticket     Fare Cabin Embarked  PassengerId  \n",
       "0      0   330911   7.8292   NaN        Q          892  \n",
       "1      0   363272   7.0000   NaN        S          893  \n",
       "2      0   240276   9.6875   NaN        Q          894  \n",
       "3      0   315154   8.6625   NaN        S          895  \n",
       "4      1  3101298  12.2875   NaN        S          896  "
      ]
     },
     "execution_count": 23,
     "metadata": {},
     "output_type": "execute_result"
    }
   ],
   "source": [
    "test_data.head()\n",
    "col1=test_data.columns.tolist()\n",
    "col1 =  col1[-10:]+ col1[:-10]\n",
    "col1\n",
    "test_data= test_data[col1]\n",
    "test_data.head()"
   ]
  },
  {
   "cell_type": "code",
   "execution_count": 24,
   "metadata": {},
   "outputs": [
    {
     "data": {
      "text/html": [
       "<div>\n",
       "<style>\n",
       "    .dataframe thead tr:only-child th {\n",
       "        text-align: right;\n",
       "    }\n",
       "\n",
       "    .dataframe thead th {\n",
       "        text-align: left;\n",
       "    }\n",
       "\n",
       "    .dataframe tbody tr th {\n",
       "        vertical-align: top;\n",
       "    }\n",
       "</style>\n",
       "<table border=\"1\" class=\"dataframe\">\n",
       "  <thead>\n",
       "    <tr style=\"text-align: right;\">\n",
       "      <th></th>\n",
       "      <th>Pclass</th>\n",
       "      <th>Sex</th>\n",
       "      <th>Age</th>\n",
       "      <th>SibSp</th>\n",
       "      <th>Parch</th>\n",
       "      <th>Fare</th>\n",
       "      <th>Embarked</th>\n",
       "    </tr>\n",
       "  </thead>\n",
       "  <tbody>\n",
       "    <tr>\n",
       "      <th>0</th>\n",
       "      <td>3</td>\n",
       "      <td>male</td>\n",
       "      <td>34.5</td>\n",
       "      <td>0</td>\n",
       "      <td>0</td>\n",
       "      <td>7.8292</td>\n",
       "      <td>Q</td>\n",
       "    </tr>\n",
       "    <tr>\n",
       "      <th>1</th>\n",
       "      <td>3</td>\n",
       "      <td>female</td>\n",
       "      <td>47.0</td>\n",
       "      <td>1</td>\n",
       "      <td>0</td>\n",
       "      <td>7.0000</td>\n",
       "      <td>S</td>\n",
       "    </tr>\n",
       "    <tr>\n",
       "      <th>2</th>\n",
       "      <td>2</td>\n",
       "      <td>male</td>\n",
       "      <td>62.0</td>\n",
       "      <td>0</td>\n",
       "      <td>0</td>\n",
       "      <td>9.6875</td>\n",
       "      <td>Q</td>\n",
       "    </tr>\n",
       "    <tr>\n",
       "      <th>3</th>\n",
       "      <td>3</td>\n",
       "      <td>male</td>\n",
       "      <td>27.0</td>\n",
       "      <td>0</td>\n",
       "      <td>0</td>\n",
       "      <td>8.6625</td>\n",
       "      <td>S</td>\n",
       "    </tr>\n",
       "    <tr>\n",
       "      <th>4</th>\n",
       "      <td>3</td>\n",
       "      <td>female</td>\n",
       "      <td>22.0</td>\n",
       "      <td>1</td>\n",
       "      <td>1</td>\n",
       "      <td>12.2875</td>\n",
       "      <td>S</td>\n",
       "    </tr>\n",
       "  </tbody>\n",
       "</table>\n",
       "</div>"
      ],
      "text/plain": [
       "   Pclass     Sex   Age  SibSp  Parch     Fare Embarked\n",
       "0       3    male  34.5      0      0   7.8292        Q\n",
       "1       3  female  47.0      1      0   7.0000        S\n",
       "2       2    male  62.0      0      0   9.6875        Q\n",
       "3       3    male  27.0      0      0   8.6625        S\n",
       "4       3  female  22.0      1      1  12.2875        S"
      ]
     },
     "execution_count": 24,
     "metadata": {},
     "output_type": "execute_result"
    }
   ],
   "source": [
    "test_data.drop('PassengerId',axis=1,inplace=True)\n",
    "test_data.drop('Name',axis=1,inplace=True)\n",
    "test_data.drop('Ticket',axis=1,inplace=True)\n",
    "test_data.drop('Cabin',axis=1,inplace=True)\n",
    "test_data.head()"
   ]
  },
  {
   "cell_type": "code",
   "execution_count": 25,
   "metadata": {},
   "outputs": [
    {
     "name": "stderr",
     "output_type": "stream",
     "text": [
      "C:\\Users\\shubham saksham\\Anaconda3\\lib\\site-packages\\ipykernel_launcher.py:1: SettingWithCopyWarning: \n",
      "A value is trying to be set on a copy of a slice from a DataFrame\n",
      "\n",
      "See the caveats in the documentation: http://pandas.pydata.org/pandas-docs/stable/indexing.html#indexing-view-versus-copy\n",
      "  \"\"\"Entry point for launching an IPython kernel.\n",
      "C:\\Users\\shubham saksham\\Anaconda3\\lib\\site-packages\\ipykernel_launcher.py:2: SettingWithCopyWarning: \n",
      "A value is trying to be set on a copy of a slice from a DataFrame\n",
      "\n",
      "See the caveats in the documentation: http://pandas.pydata.org/pandas-docs/stable/indexing.html#indexing-view-versus-copy\n",
      "  \n",
      "C:\\Users\\shubham saksham\\Anaconda3\\lib\\site-packages\\ipykernel_launcher.py:3: SettingWithCopyWarning: \n",
      "A value is trying to be set on a copy of a slice from a DataFrame\n",
      "\n",
      "See the caveats in the documentation: http://pandas.pydata.org/pandas-docs/stable/indexing.html#indexing-view-versus-copy\n",
      "  This is separate from the ipykernel package so we can avoid doing imports until\n",
      "C:\\Users\\shubham saksham\\Anaconda3\\lib\\site-packages\\ipykernel_launcher.py:4: SettingWithCopyWarning: \n",
      "A value is trying to be set on a copy of a slice from a DataFrame\n",
      "\n",
      "See the caveats in the documentation: http://pandas.pydata.org/pandas-docs/stable/indexing.html#indexing-view-versus-copy\n",
      "  after removing the cwd from sys.path.\n",
      "C:\\Users\\shubham saksham\\Anaconda3\\lib\\site-packages\\ipykernel_launcher.py:5: SettingWithCopyWarning: \n",
      "A value is trying to be set on a copy of a slice from a DataFrame\n",
      "\n",
      "See the caveats in the documentation: http://pandas.pydata.org/pandas-docs/stable/indexing.html#indexing-view-versus-copy\n",
      "  \"\"\"\n"
     ]
    },
    {
     "data": {
      "text/html": [
       "<div>\n",
       "<style>\n",
       "    .dataframe thead tr:only-child th {\n",
       "        text-align: right;\n",
       "    }\n",
       "\n",
       "    .dataframe thead th {\n",
       "        text-align: left;\n",
       "    }\n",
       "\n",
       "    .dataframe tbody tr th {\n",
       "        vertical-align: top;\n",
       "    }\n",
       "</style>\n",
       "<table border=\"1\" class=\"dataframe\">\n",
       "  <thead>\n",
       "    <tr style=\"text-align: right;\">\n",
       "      <th></th>\n",
       "      <th>Pclass</th>\n",
       "      <th>Sex</th>\n",
       "      <th>Age</th>\n",
       "      <th>SibSp</th>\n",
       "      <th>Parch</th>\n",
       "      <th>Fare</th>\n",
       "      <th>Embarked</th>\n",
       "    </tr>\n",
       "  </thead>\n",
       "  <tbody>\n",
       "    <tr>\n",
       "      <th>0</th>\n",
       "      <td>3</td>\n",
       "      <td>0</td>\n",
       "      <td>34.5</td>\n",
       "      <td>0</td>\n",
       "      <td>0</td>\n",
       "      <td>7.8292</td>\n",
       "      <td>3</td>\n",
       "    </tr>\n",
       "    <tr>\n",
       "      <th>1</th>\n",
       "      <td>3</td>\n",
       "      <td>1</td>\n",
       "      <td>47.0</td>\n",
       "      <td>1</td>\n",
       "      <td>0</td>\n",
       "      <td>7.0000</td>\n",
       "      <td>1</td>\n",
       "    </tr>\n",
       "    <tr>\n",
       "      <th>2</th>\n",
       "      <td>2</td>\n",
       "      <td>0</td>\n",
       "      <td>62.0</td>\n",
       "      <td>0</td>\n",
       "      <td>0</td>\n",
       "      <td>9.6875</td>\n",
       "      <td>3</td>\n",
       "    </tr>\n",
       "    <tr>\n",
       "      <th>3</th>\n",
       "      <td>3</td>\n",
       "      <td>0</td>\n",
       "      <td>27.0</td>\n",
       "      <td>0</td>\n",
       "      <td>0</td>\n",
       "      <td>8.6625</td>\n",
       "      <td>1</td>\n",
       "    </tr>\n",
       "    <tr>\n",
       "      <th>4</th>\n",
       "      <td>3</td>\n",
       "      <td>1</td>\n",
       "      <td>22.0</td>\n",
       "      <td>1</td>\n",
       "      <td>1</td>\n",
       "      <td>12.2875</td>\n",
       "      <td>1</td>\n",
       "    </tr>\n",
       "  </tbody>\n",
       "</table>\n",
       "</div>"
      ],
      "text/plain": [
       "   Pclass Sex   Age  SibSp  Parch     Fare Embarked\n",
       "0       3   0  34.5      0      0   7.8292        3\n",
       "1       3   1  47.0      1      0   7.0000        1\n",
       "2       2   0  62.0      0      0   9.6875        3\n",
       "3       3   0  27.0      0      0   8.6625        1\n",
       "4       3   1  22.0      1      1  12.2875        1"
      ]
     },
     "execution_count": 25,
     "metadata": {},
     "output_type": "execute_result"
    }
   ],
   "source": [
    "test_data.Sex[test_data.Sex == 'male'] = 0\n",
    "test_data.Sex[test_data.Sex == 'female'] = 1\n",
    "test_data.Embarked[test_data.Embarked == 'S']=1\n",
    "test_data.Embarked[test_data.Embarked == 'C']=2\n",
    "test_data.Embarked[test_data.Embarked== 'Q']=3\n",
    "test_data.head()"
   ]
  },
  {
   "cell_type": "code",
   "execution_count": 26,
   "metadata": {},
   "outputs": [
    {
     "data": {
      "text/plain": [
       "Pclass       0\n",
       "Sex          0\n",
       "Age         86\n",
       "SibSp        0\n",
       "Parch        0\n",
       "Fare         1\n",
       "Embarked     0\n",
       "dtype: int64"
      ]
     },
     "execution_count": 26,
     "metadata": {},
     "output_type": "execute_result"
    }
   ],
   "source": [
    "# test_data.Sex[test_data.Sex == 'male'] = 0\n",
    "test_data.isnull().sum()"
   ]
  },
  {
   "cell_type": "code",
   "execution_count": 27,
   "metadata": {},
   "outputs": [
    {
     "data": {
      "text/plain": [
       "Pclass       0\n",
       "Sex          0\n",
       "Age         86\n",
       "SibSp        0\n",
       "Parch        0\n",
       "Fare         0\n",
       "Embarked     0\n",
       "dtype: int64"
      ]
     },
     "execution_count": 27,
     "metadata": {},
     "output_type": "execute_result"
    }
   ],
   "source": [
    "A2 = test_data.Fare.mean()\n",
    "test_data.Fare.fillna(A2,inplace=True)\n",
    "test_data.isnull().sum()"
   ]
  },
  {
   "cell_type": "markdown",
   "metadata": {},
   "source": [
    "# Preparing Test data"
   ]
  },
  {
   "cell_type": "code",
   "execution_count": 28,
   "metadata": {},
   "outputs": [
    {
     "data": {
      "text/plain": [
       "Pclass      0\n",
       "Sex         0\n",
       "Age         0\n",
       "SibSp       0\n",
       "Parch       0\n",
       "Fare        0\n",
       "Embarked    0\n",
       "dtype: int64"
      ]
     },
     "execution_count": 28,
     "metadata": {},
     "output_type": "execute_result"
    }
   ],
   "source": [
    "test_data.Age.fillna(27,inplace=True)\n",
    "test_data.isnull().sum()"
   ]
  },
  {
   "cell_type": "markdown",
   "metadata": {},
   "source": [
    "# Train-Test split for testing various classifiers"
   ]
  },
  {
   "cell_type": "code",
   "execution_count": 29,
   "metadata": {},
   "outputs": [
    {
     "data": {
      "text/plain": [
       "(891, 8)"
      ]
     },
     "execution_count": 29,
     "metadata": {},
     "output_type": "execute_result"
    }
   ],
   "source": [
    "X_train2= X_Y_train.iloc[:,:7] # actually x_y_train!\n",
    "Y_train2= X_Y_train.iloc[:,7:]\n",
    "X_Y_train.shape"
   ]
  },
  {
   "cell_type": "code",
   "execution_count": 30,
   "metadata": {},
   "outputs": [
    {
     "data": {
      "text/plain": [
       "((712, 7), (712, 1))"
      ]
     },
     "execution_count": 30,
     "metadata": {},
     "output_type": "execute_result"
    }
   ],
   "source": [
    "from sklearn.model_selection import train_test_split\n",
    "x_train1, x_test1, y_train1, y_test1 = train_test_split(X_train2,Y_train2,test_size=0.2)\n",
    "x_train1.shape,y_train1.shape"
   ]
  },
  {
   "cell_type": "markdown",
   "metadata": {
    "collapsed": true
   },
   "source": [
    "# Logistic Regression"
   ]
  },
  {
   "cell_type": "code",
   "execution_count": 45,
   "metadata": {},
   "outputs": [
    {
     "name": "stderr",
     "output_type": "stream",
     "text": [
      "C:\\Users\\shubham saksham\\Anaconda3\\lib\\site-packages\\sklearn\\utils\\validation.py:578: DataConversionWarning: A column-vector y was passed when a 1d array was expected. Please change the shape of y to (n_samples, ), for example using ravel().\n",
      "  y = column_or_1d(y, warn=True)\n"
     ]
    },
    {
     "data": {
      "text/plain": [
       "0.8044692737430168"
      ]
     },
     "execution_count": 45,
     "metadata": {},
     "output_type": "execute_result"
    }
   ],
   "source": [
    "titanic=LogisticRegression()\n",
    "titanic.fit(x_train1,y_train1)\n",
    "titanic.score(x_test1,y_test1)\n",
    "#titanic.predict(test_data)\n",
    "#Y_pred=titanic.predict(test_data)\n",
    "#np.savetxt(\"logistic_pred.csv\",Y_pred,delimiter=\",\")"
   ]
  },
  {
   "cell_type": "markdown",
   "metadata": {},
   "source": [
    "# Gradient boosting classifier"
   ]
  },
  {
   "cell_type": "code",
   "execution_count": 46,
   "metadata": {},
   "outputs": [
    {
     "name": "stderr",
     "output_type": "stream",
     "text": [
      "C:\\Users\\shubham saksham\\Anaconda3\\lib\\site-packages\\sklearn\\utils\\validation.py:578: DataConversionWarning: A column-vector y was passed when a 1d array was expected. Please change the shape of y to (n_samples, ), for example using ravel().\n",
      "  y = column_or_1d(y, warn=True)\n"
     ]
    },
    {
     "data": {
      "text/plain": [
       "0.86033519553072624"
      ]
     },
     "execution_count": 46,
     "metadata": {},
     "output_type": "execute_result"
    }
   ],
   "source": [
    "from sklearn.ensemble import GradientBoostingClassifier\n",
    "gbc= GradientBoostingClassifier()\n",
    "\n",
    "gbc.fit(x_train1,y_train1)\n",
    "gbc.score(x_test1,y_test1)\n",
    "#gbc.predict(test_data)"
   ]
  },
  {
   "cell_type": "markdown",
   "metadata": {},
   "source": [
    "# Random Forest Classifier"
   ]
  },
  {
   "cell_type": "code",
   "execution_count": 47,
   "metadata": {},
   "outputs": [
    {
     "name": "stderr",
     "output_type": "stream",
     "text": [
      "C:\\Users\\shubham saksham\\Anaconda3\\lib\\site-packages\\ipykernel_launcher.py:3: DataConversionWarning: A column-vector y was passed when a 1d array was expected. Please change the shape of y to (n_samples,), for example using ravel().\n",
      "  This is separate from the ipykernel package so we can avoid doing imports until\n"
     ]
    },
    {
     "data": {
      "text/plain": [
       "0.83240223463687146"
      ]
     },
     "execution_count": 47,
     "metadata": {},
     "output_type": "execute_result"
    }
   ],
   "source": [
    "from sklearn.ensemble import RandomForestClassifier\n",
    "rfc= RandomForestClassifier()\n",
    "rfc.fit(x_train1,y_train1)\n",
    "rfc.score(x_test1,y_test1)\n",
    "#rfc.predict(test_data)"
   ]
  },
  {
   "cell_type": "markdown",
   "metadata": {},
   "source": [
    "# SVM classifier"
   ]
  },
  {
   "cell_type": "code",
   "execution_count": 48,
   "metadata": {},
   "outputs": [
    {
     "name": "stderr",
     "output_type": "stream",
     "text": [
      "C:\\Users\\shubham saksham\\Anaconda3\\lib\\site-packages\\sklearn\\utils\\validation.py:578: DataConversionWarning: A column-vector y was passed when a 1d array was expected. Please change the shape of y to (n_samples, ), for example using ravel().\n",
      "  y = column_or_1d(y, warn=True)\n"
     ]
    },
    {
     "data": {
      "text/plain": [
       "0.71508379888268159"
      ]
     },
     "execution_count": 48,
     "metadata": {},
     "output_type": "execute_result"
    }
   ],
   "source": [
    "from sklearn.svm import SVC\n",
    "clf= SVC()\n",
    "clf.fit(x_train1,y_train1)\n",
    "clf.score(x_test1,y_test1)\n",
    "#clf.predict(test_data)"
   ]
  },
  {
   "cell_type": "code",
   "execution_count": 35,
   "metadata": {},
   "outputs": [
    {
     "data": {
      "text/plain": [
       "array([0, 0, 0, 1, 0, 0, 0, 0, 0, 0, 0, 0, 1, 0, 1, 1, 0, 0, 0, 0, 0, 1, 1,\n",
       "       1, 1, 0, 1, 0, 0, 0, 0, 0, 1, 0, 0, 1, 1, 0, 0, 1, 0, 1, 0, 1, 1, 0,\n",
       "       1, 1, 1, 1, 0, 0, 1, 1, 0, 0, 0, 0, 0, 1, 0, 0, 0, 1, 0, 1, 1, 0, 0,\n",
       "       1, 0, 0, 0, 1, 1, 0, 0, 1, 0, 0, 1, 0, 0, 0, 1, 0, 1, 0, 1, 1, 0, 0,\n",
       "       1, 0, 0, 0, 1, 0, 0, 0, 1, 0, 1, 0, 0, 0, 0, 1, 1, 0, 0, 1, 1, 0, 1,\n",
       "       0, 0, 1, 0, 1, 1, 1, 1, 0, 1, 1, 0, 1, 0, 0, 1, 0, 0, 0, 0, 0, 0, 0,\n",
       "       0, 0, 0, 1, 0, 0, 1, 0, 1, 0, 1, 0, 1, 1, 0, 0, 0, 0, 1, 1, 1, 1, 1,\n",
       "       1, 1, 1, 0, 0, 0, 0, 1, 0, 0, 0, 0, 1, 0, 1, 1, 1, 1, 1, 0, 0, 1, 1,\n",
       "       1, 0, 1, 0, 0, 0, 0, 0, 1, 0, 1, 0, 1, 0, 0, 1, 1, 1, 0, 1, 0, 1, 0,\n",
       "       0, 1, 0, 0, 0, 0, 0, 1, 0, 1, 0, 1, 0, 1, 0, 1, 0, 0, 1, 0, 1, 0, 0,\n",
       "       0, 1, 0, 1, 0, 0, 0, 0, 1, 1, 1, 1, 0, 0, 0, 0, 1, 0, 1, 1, 1, 0, 0,\n",
       "       0, 0, 0, 1, 0, 1, 0, 0, 0, 1, 1, 0, 0, 0, 0, 1, 0, 0, 1, 1, 1, 0, 1,\n",
       "       0, 0, 0, 0, 0, 1, 1, 0, 1, 0, 0, 0, 1, 0, 0, 0, 1, 0, 0, 0, 1, 0, 0,\n",
       "       0, 0, 0, 0, 0, 1, 1, 0, 1, 0, 0, 0, 0, 0, 0, 1, 1, 0, 0, 0, 0, 0, 0,\n",
       "       0, 1, 1, 0, 1, 0, 0, 0, 1, 1, 0, 0, 0, 0, 1, 0, 0, 1, 0, 0, 0, 1, 0,\n",
       "       1, 0, 1, 0, 1, 1, 0, 0, 0, 1, 0, 1, 0, 1, 0, 0, 1, 1, 1, 1, 0, 0, 0,\n",
       "       1, 0, 0, 1, 0, 0, 1, 1, 0, 0, 0, 0, 1, 0, 1, 0, 0, 1, 0, 0, 0, 0, 0,\n",
       "       1, 0, 0, 0, 1, 0, 1, 0, 0, 1, 0, 1, 0, 0, 0, 0, 0, 1, 1, 1, 1, 0, 0,\n",
       "       1, 0, 0, 1], dtype=int64)"
      ]
     },
     "execution_count": 35,
     "metadata": {},
     "output_type": "execute_result"
    }
   ],
   "source": [
    "rfc.predict(test_data)"
   ]
  },
  {
   "cell_type": "markdown",
   "metadata": {},
   "source": [
    "# Saving results"
   ]
  },
  {
   "cell_type": "code",
   "execution_count": 36,
   "metadata": {
    "collapsed": true
   },
   "outputs": [],
   "source": [
    "import pandas as pd\n",
    "#Y_pred=rfc.predict(test_data)\n",
    "#np.savetxt(\"logistic_pred.csv\",Y_pred,delimiter=\",\")\n",
    "results=pd.concat([Passengers_test,pd.DataFrame(gbc.predict(test_data))],axis=1)"
   ]
  },
  {
   "cell_type": "code",
   "execution_count": 37,
   "metadata": {
    "collapsed": true
   },
   "outputs": [],
   "source": [
    "results.to_csv('random_forest.csv',index=False)"
   ]
  },
  {
   "cell_type": "markdown",
   "metadata": {},
   "source": [
    "# Experiment! Let's try implementing a sequential model neural network."
   ]
  },
  {
   "cell_type": "code",
   "execution_count": 38,
   "metadata": {},
   "outputs": [
    {
     "name": "stderr",
     "output_type": "stream",
     "text": [
      "Using TensorFlow backend.\n"
     ]
    }
   ],
   "source": [
    "from keras.models import Sequential"
   ]
  },
  {
   "cell_type": "code",
   "execution_count": 39,
   "metadata": {
    "collapsed": true
   },
   "outputs": [],
   "source": [
    "model= Sequential()"
   ]
  },
  {
   "cell_type": "code",
   "execution_count": 40,
   "metadata": {
    "collapsed": true
   },
   "outputs": [],
   "source": [
    "from keras.layers import Dense, Dropout\n",
    "\n",
    "layer1= Dense(units= 15, activation='relu', input_dim=7)\n",
    "model.add(layer1)  # 1st layer added\n",
    "\n",
    "model.add(Dropout(0.50)) # dropout layer added\n",
    "\n",
    "model.add(Dense(units=10,activation='relu')) # 2nd layer added\n",
    "\n",
    "model.add(Dropout(0.25)) # dropout layer added\n",
    "\n",
    "#model.add(Dense(units=10,activation='relu')) # 3rd layer added\n",
    "\n",
    "#model.add(Dropout(0.20)) # dropout layer added\n",
    "\n",
    "model.add(Dense(units=1,activation='sigmoid')) # output layer added"
   ]
  },
  {
   "cell_type": "code",
   "execution_count": 41,
   "metadata": {
    "collapsed": true
   },
   "outputs": [],
   "source": [
    "# compiling the model\n",
    "model.compile(optimizer='adam',loss='binary_crossentropy',metrics=['accuracy'])"
   ]
  },
  {
   "cell_type": "code",
   "execution_count": 42,
   "metadata": {},
   "outputs": [
    {
     "name": "stdout",
     "output_type": "stream",
     "text": [
      "Train on 712 samples, validate on 179 samples\n",
      "Epoch 1/100\n",
      "712/712 [==============================] - 3s 4ms/step - loss: 1.6317 - acc: 0.5787 - val_loss: 0.6689 - val_acc: 0.6313\n",
      "Epoch 2/100\n",
      "712/712 [==============================] - 1s 2ms/step - loss: 0.9909 - acc: 0.6096 - val_loss: 0.6236 - val_acc: 0.6927\n",
      "Epoch 3/100\n",
      "712/712 [==============================] - 1s 2ms/step - loss: 0.7912 - acc: 0.6081 - val_loss: 0.6392 - val_acc: 0.7095\n",
      "Epoch 4/100\n",
      "712/712 [==============================] - 1s 2ms/step - loss: 0.7074 - acc: 0.5885 - val_loss: 0.6084 - val_acc: 0.6704\n",
      "Epoch 5/100\n",
      "712/712 [==============================] - 1s 2ms/step - loss: 0.6871 - acc: 0.6124 - val_loss: 0.6204 - val_acc: 0.6425\n",
      "Epoch 6/100\n",
      "712/712 [==============================] - 1s 2ms/step - loss: 0.6461 - acc: 0.6039 - val_loss: 0.6000 - val_acc: 0.6425\n",
      "Epoch 7/100\n",
      "712/712 [==============================] - 1s 2ms/step - loss: 0.6395 - acc: 0.6138 - val_loss: 0.6055 - val_acc: 0.6425\n",
      "Epoch 8/100\n",
      "712/712 [==============================] - 1s 2ms/step - loss: 0.6387 - acc: 0.6081 - val_loss: 0.5888 - val_acc: 0.6480\n",
      "Epoch 9/100\n",
      "712/712 [==============================] - 1s 2ms/step - loss: 0.6335 - acc: 0.6250 - val_loss: 0.5737 - val_acc: 0.6480\n",
      "Epoch 10/100\n",
      "712/712 [==============================] - 1s 2ms/step - loss: 0.6338 - acc: 0.6138 - val_loss: 0.5826 - val_acc: 0.6425\n",
      "Epoch 11/100\n",
      "712/712 [==============================] - 1s 2ms/step - loss: 0.6143 - acc: 0.6250 - val_loss: 0.5742 - val_acc: 0.6480\n",
      "Epoch 12/100\n",
      "712/712 [==============================] - 1s 2ms/step - loss: 0.6229 - acc: 0.6250 - val_loss: 0.5842 - val_acc: 0.6592\n",
      "Epoch 13/100\n",
      "712/712 [==============================] - 1s 2ms/step - loss: 0.6295 - acc: 0.6110 - val_loss: 0.5614 - val_acc: 0.6480\n",
      "Epoch 14/100\n",
      "712/712 [==============================] - 1s 2ms/step - loss: 0.6037 - acc: 0.6110 - val_loss: 0.5696 - val_acc: 0.6480\n",
      "Epoch 15/100\n",
      "712/712 [==============================] - 1s 2ms/step - loss: 0.6135 - acc: 0.6166 - val_loss: 0.5778 - val_acc: 0.6536\n",
      "Epoch 16/100\n",
      "712/712 [==============================] - 1s 2ms/step - loss: 0.6050 - acc: 0.6320 - val_loss: 0.5593 - val_acc: 0.6425\n",
      "Epoch 17/100\n",
      "712/712 [==============================] - 1s 2ms/step - loss: 0.5770 - acc: 0.6657 - val_loss: 0.5353 - val_acc: 0.6592\n",
      "Epoch 18/100\n",
      "712/712 [==============================] - 1s 2ms/step - loss: 0.6063 - acc: 0.6531 - val_loss: 0.5798 - val_acc: 0.7095\n",
      "Epoch 19/100\n",
      "712/712 [==============================] - 1s 2ms/step - loss: 0.5789 - acc: 0.6699 - val_loss: 0.5438 - val_acc: 0.7654\n",
      "Epoch 20/100\n",
      "712/712 [==============================] - 1s 2ms/step - loss: 0.5955 - acc: 0.6784 - val_loss: 0.5652 - val_acc: 0.7542\n",
      "Epoch 21/100\n",
      "712/712 [==============================] - 1s 2ms/step - loss: 0.5777 - acc: 0.6938 - val_loss: 0.5330 - val_acc: 0.7654\n",
      "Epoch 22/100\n",
      "712/712 [==============================] - 1s 2ms/step - loss: 0.5794 - acc: 0.6952 - val_loss: 0.5302 - val_acc: 0.7598\n",
      "Epoch 23/100\n",
      "712/712 [==============================] - 1s 2ms/step - loss: 0.5608 - acc: 0.7219 - val_loss: 0.5439 - val_acc: 0.7598\n",
      "Epoch 24/100\n",
      "712/712 [==============================] - 1s 2ms/step - loss: 0.5588 - acc: 0.7051 - val_loss: 0.5211 - val_acc: 0.7709\n",
      "Epoch 25/100\n",
      "712/712 [==============================] - 1s 2ms/step - loss: 0.5714 - acc: 0.7093 - val_loss: 0.5344 - val_acc: 0.7374\n",
      "Epoch 26/100\n",
      "712/712 [==============================] - 1s 2ms/step - loss: 0.5679 - acc: 0.7177 - val_loss: 0.5297 - val_acc: 0.7709\n",
      "Epoch 27/100\n",
      "712/712 [==============================] - 1s 2ms/step - loss: 0.5492 - acc: 0.7303 - val_loss: 0.5226 - val_acc: 0.7709\n",
      "Epoch 28/100\n",
      "712/712 [==============================] - 1s 2ms/step - loss: 0.5581 - acc: 0.7247 - val_loss: 0.5277 - val_acc: 0.7709\n",
      "Epoch 29/100\n",
      "712/712 [==============================] - 1s 2ms/step - loss: 0.5402 - acc: 0.7247 - val_loss: 0.5123 - val_acc: 0.7821\n",
      "Epoch 30/100\n",
      "712/712 [==============================] - 1s 2ms/step - loss: 0.5478 - acc: 0.7514 - val_loss: 0.5189 - val_acc: 0.7821\n",
      "Epoch 31/100\n",
      "712/712 [==============================] - 1s 2ms/step - loss: 0.5436 - acc: 0.7037 - val_loss: 0.5008 - val_acc: 0.7989\n",
      "Epoch 32/100\n",
      "712/712 [==============================] - 1s 2ms/step - loss: 0.5776 - acc: 0.7022 - val_loss: 0.5190 - val_acc: 0.7821\n",
      "Epoch 33/100\n",
      "712/712 [==============================] - 1s 2ms/step - loss: 0.5507 - acc: 0.7022 - val_loss: 0.5068 - val_acc: 0.7709\n",
      "Epoch 34/100\n",
      "712/712 [==============================] - 1s 2ms/step - loss: 0.5320 - acc: 0.7388 - val_loss: 0.4957 - val_acc: 0.7765\n",
      "Epoch 35/100\n",
      "712/712 [==============================] - 1s 2ms/step - loss: 0.5509 - acc: 0.7065 - val_loss: 0.5204 - val_acc: 0.7654\n",
      "Epoch 36/100\n",
      "712/712 [==============================] - 1s 2ms/step - loss: 0.5293 - acc: 0.7472 - val_loss: 0.5071 - val_acc: 0.7709\n",
      "Epoch 37/100\n",
      "712/712 [==============================] - 1s 2ms/step - loss: 0.5513 - acc: 0.7261 - val_loss: 0.5097 - val_acc: 0.7765\n",
      "Epoch 38/100\n",
      "712/712 [==============================] - 1s 2ms/step - loss: 0.5367 - acc: 0.7360 - val_loss: 0.5020 - val_acc: 0.7765\n",
      "Epoch 39/100\n",
      "712/712 [==============================] - 1s 2ms/step - loss: 0.5291 - acc: 0.7570 - val_loss: 0.4776 - val_acc: 0.7654\n",
      "Epoch 40/100\n",
      "712/712 [==============================] - 1s 2ms/step - loss: 0.5318 - acc: 0.7388 - val_loss: 0.4935 - val_acc: 0.7765\n",
      "Epoch 41/100\n",
      "712/712 [==============================] - 1s 2ms/step - loss: 0.5251 - acc: 0.7697 - val_loss: 0.4975 - val_acc: 0.7877\n",
      "Epoch 42/100\n",
      "712/712 [==============================] - 1s 2ms/step - loss: 0.5130 - acc: 0.7542 - val_loss: 0.4743 - val_acc: 0.7821\n",
      "Epoch 43/100\n",
      "712/712 [==============================] - 1s 2ms/step - loss: 0.5372 - acc: 0.7233 - val_loss: 0.4834 - val_acc: 0.7709\n",
      "Epoch 44/100\n",
      "712/712 [==============================] - 1s 2ms/step - loss: 0.5390 - acc: 0.7402 - val_loss: 0.5195 - val_acc: 0.7877\n",
      "Epoch 45/100\n",
      "712/712 [==============================] - 1s 2ms/step - loss: 0.5139 - acc: 0.7416 - val_loss: 0.4778 - val_acc: 0.7765\n",
      "Epoch 46/100\n",
      "712/712 [==============================] - 1s 2ms/step - loss: 0.5127 - acc: 0.7542 - val_loss: 0.4787 - val_acc: 0.7709\n",
      "Epoch 47/100\n",
      "712/712 [==============================] - 1s 2ms/step - loss: 0.5269 - acc: 0.7472 - val_loss: 0.4661 - val_acc: 0.7989\n",
      "Epoch 48/100\n",
      "712/712 [==============================] - 1s 2ms/step - loss: 0.5200 - acc: 0.7542 - val_loss: 0.4840 - val_acc: 0.8045\n",
      "Epoch 49/100\n",
      "712/712 [==============================] - 1s 2ms/step - loss: 0.4964 - acc: 0.7598 - val_loss: 0.4941 - val_acc: 0.7430\n",
      "Epoch 50/100\n",
      "712/712 [==============================] - 1s 2ms/step - loss: 0.4942 - acc: 0.7753 - val_loss: 0.4724 - val_acc: 0.7821\n",
      "Epoch 51/100\n",
      "712/712 [==============================] - 1s 2ms/step - loss: 0.5387 - acc: 0.7430 - val_loss: 0.4852 - val_acc: 0.7877\n",
      "Epoch 52/100\n",
      "712/712 [==============================] - 1s 2ms/step - loss: 0.4904 - acc: 0.7416 - val_loss: 0.4627 - val_acc: 0.7877\n",
      "Epoch 53/100\n",
      "712/712 [==============================] - 1s 2ms/step - loss: 0.5069 - acc: 0.7570 - val_loss: 0.4563 - val_acc: 0.7877\n",
      "Epoch 54/100\n",
      "712/712 [==============================] - 1s 2ms/step - loss: 0.5139 - acc: 0.7598 - val_loss: 0.4554 - val_acc: 0.7989\n",
      "Epoch 55/100\n",
      "712/712 [==============================] - 1s 2ms/step - loss: 0.4964 - acc: 0.7430 - val_loss: 0.4587 - val_acc: 0.8101\n",
      "Epoch 56/100\n",
      "712/712 [==============================] - 1s 2ms/step - loss: 0.4978 - acc: 0.7669 - val_loss: 0.4616 - val_acc: 0.7933\n",
      "Epoch 57/100\n",
      "712/712 [==============================] - 1s 2ms/step - loss: 0.5382 - acc: 0.7374 - val_loss: 0.4599 - val_acc: 0.7933\n",
      "Epoch 58/100\n",
      "712/712 [==============================] - 1s 2ms/step - loss: 0.5009 - acc: 0.7542 - val_loss: 0.4746 - val_acc: 0.8101\n",
      "Epoch 59/100\n",
      "712/712 [==============================] - 1s 2ms/step - loss: 0.5082 - acc: 0.7598 - val_loss: 0.4957 - val_acc: 0.7933\n",
      "Epoch 60/100\n",
      "712/712 [==============================] - 1s 2ms/step - loss: 0.5086 - acc: 0.7683 - val_loss: 0.4580 - val_acc: 0.7877\n",
      "Epoch 61/100\n",
      "712/712 [==============================] - 1s 2ms/step - loss: 0.5099 - acc: 0.7626 - val_loss: 0.4517 - val_acc: 0.7765\n"
     ]
    },
    {
     "name": "stdout",
     "output_type": "stream",
     "text": [
      "Epoch 62/100\n",
      "712/712 [==============================] - 1s 2ms/step - loss: 0.4831 - acc: 0.7640 - val_loss: 0.4518 - val_acc: 0.7877\n",
      "Epoch 63/100\n",
      "712/712 [==============================] - 1s 2ms/step - loss: 0.4915 - acc: 0.7584 - val_loss: 0.4496 - val_acc: 0.7765\n",
      "Epoch 64/100\n",
      "712/712 [==============================] - 1s 2ms/step - loss: 0.4822 - acc: 0.7781 - val_loss: 0.4717 - val_acc: 0.7989\n",
      "Epoch 65/100\n",
      "712/712 [==============================] - 1s 2ms/step - loss: 0.4990 - acc: 0.7683 - val_loss: 0.4486 - val_acc: 0.7877\n",
      "Epoch 66/100\n",
      "712/712 [==============================] - 1s 2ms/step - loss: 0.5078 - acc: 0.7542 - val_loss: 0.4717 - val_acc: 0.8156\n",
      "Epoch 67/100\n",
      "712/712 [==============================] - 1s 1ms/step - loss: 0.5009 - acc: 0.7528 - val_loss: 0.4531 - val_acc: 0.7765\n",
      "Epoch 68/100\n",
      "712/712 [==============================] - 1s 2ms/step - loss: 0.5062 - acc: 0.7711 - val_loss: 0.4448 - val_acc: 0.7933\n",
      "Epoch 69/100\n",
      "712/712 [==============================] - 1s 2ms/step - loss: 0.5004 - acc: 0.7697 - val_loss: 0.4636 - val_acc: 0.7989\n",
      "Epoch 70/100\n",
      "712/712 [==============================] - 1s 2ms/step - loss: 0.5028 - acc: 0.7725 - val_loss: 0.4452 - val_acc: 0.7989\n",
      "Epoch 71/100\n",
      "712/712 [==============================] - 1s 2ms/step - loss: 0.5156 - acc: 0.7612 - val_loss: 0.4551 - val_acc: 0.8156\n",
      "Epoch 72/100\n",
      "712/712 [==============================] - 1s 1ms/step - loss: 0.4877 - acc: 0.7697 - val_loss: 0.4641 - val_acc: 0.7989\n",
      "Epoch 73/100\n",
      "712/712 [==============================] - 1s 2ms/step - loss: 0.4855 - acc: 0.7556 - val_loss: 0.4449 - val_acc: 0.7765\n",
      "Epoch 74/100\n",
      "712/712 [==============================] - 1s 2ms/step - loss: 0.4742 - acc: 0.7879 - val_loss: 0.4441 - val_acc: 0.8101\n",
      "Epoch 75/100\n",
      "712/712 [==============================] - 1s 2ms/step - loss: 0.5003 - acc: 0.7612 - val_loss: 0.4375 - val_acc: 0.7933\n",
      "Epoch 76/100\n",
      "712/712 [==============================] - 1s 2ms/step - loss: 0.4865 - acc: 0.7739 - val_loss: 0.4379 - val_acc: 0.7821\n",
      "Epoch 77/100\n",
      "712/712 [==============================] - 1s 2ms/step - loss: 0.4955 - acc: 0.7486 - val_loss: 0.4545 - val_acc: 0.7989\n",
      "Epoch 78/100\n",
      "712/712 [==============================] - 1s 2ms/step - loss: 0.4837 - acc: 0.7626 - val_loss: 0.4458 - val_acc: 0.8101\n",
      "Epoch 79/100\n",
      "712/712 [==============================] - 1s 2ms/step - loss: 0.5029 - acc: 0.7402 - val_loss: 0.4434 - val_acc: 0.8212\n",
      "Epoch 80/100\n",
      "712/712 [==============================] - 1s 2ms/step - loss: 0.5079 - acc: 0.7626 - val_loss: 0.4641 - val_acc: 0.7933\n",
      "Epoch 81/100\n",
      "712/712 [==============================] - 1s 2ms/step - loss: 0.5000 - acc: 0.7767 - val_loss: 0.4451 - val_acc: 0.7989\n",
      "Epoch 82/100\n",
      "712/712 [==============================] - 1s 2ms/step - loss: 0.4896 - acc: 0.7626 - val_loss: 0.4444 - val_acc: 0.8045\n",
      "Epoch 83/100\n",
      "712/712 [==============================] - 1s 2ms/step - loss: 0.4846 - acc: 0.7654 - val_loss: 0.4372 - val_acc: 0.8101\n",
      "Epoch 84/100\n",
      "712/712 [==============================] - 1s 2ms/step - loss: 0.4877 - acc: 0.7640 - val_loss: 0.4460 - val_acc: 0.7989\n",
      "Epoch 85/100\n",
      "712/712 [==============================] - 1s 2ms/step - loss: 0.4858 - acc: 0.7612 - val_loss: 0.4435 - val_acc: 0.7989\n",
      "Epoch 86/100\n",
      "712/712 [==============================] - 1s 2ms/step - loss: 0.4745 - acc: 0.7697 - val_loss: 0.4443 - val_acc: 0.8156\n",
      "Epoch 87/100\n",
      "712/712 [==============================] - 1s 2ms/step - loss: 0.4979 - acc: 0.7374 - val_loss: 0.4760 - val_acc: 0.7989\n",
      "Epoch 88/100\n",
      "712/712 [==============================] - 1s 2ms/step - loss: 0.5187 - acc: 0.7360 - val_loss: 0.4882 - val_acc: 0.7709\n",
      "Epoch 89/100\n",
      "712/712 [==============================] - 1s 2ms/step - loss: 0.4775 - acc: 0.7697 - val_loss: 0.4777 - val_acc: 0.7933\n",
      "Epoch 90/100\n",
      "712/712 [==============================] - 1s 2ms/step - loss: 0.4852 - acc: 0.7739 - val_loss: 0.5047 - val_acc: 0.7654\n",
      "Epoch 91/100\n",
      "712/712 [==============================] - 1s 2ms/step - loss: 0.5106 - acc: 0.7584 - val_loss: 0.4416 - val_acc: 0.8156\n",
      "Epoch 92/100\n",
      "712/712 [==============================] - 1s 2ms/step - loss: 0.4925 - acc: 0.7753 - val_loss: 0.4716 - val_acc: 0.7989\n",
      "Epoch 93/100\n",
      "712/712 [==============================] - 1s 2ms/step - loss: 0.5107 - acc: 0.7795 - val_loss: 0.4656 - val_acc: 0.8101\n",
      "Epoch 94/100\n",
      "712/712 [==============================] - 1s 2ms/step - loss: 0.5025 - acc: 0.7514 - val_loss: 0.4638 - val_acc: 0.7989\n",
      "Epoch 95/100\n",
      "712/712 [==============================] - 1s 2ms/step - loss: 0.5026 - acc: 0.7640 - val_loss: 0.4574 - val_acc: 0.7821\n",
      "Epoch 96/100\n",
      "712/712 [==============================] - 1s 2ms/step - loss: 0.5137 - acc: 0.7500 - val_loss: 0.5043 - val_acc: 0.7709\n",
      "Epoch 97/100\n",
      "712/712 [==============================] - 1s 2ms/step - loss: 0.5149 - acc: 0.7612 - val_loss: 0.4429 - val_acc: 0.8156\n",
      "Epoch 98/100\n",
      "712/712 [==============================] - 1s 2ms/step - loss: 0.4877 - acc: 0.7767 - val_loss: 0.4485 - val_acc: 0.8156\n",
      "Epoch 99/100\n",
      "712/712 [==============================] - 1s 2ms/step - loss: 0.5140 - acc: 0.7444 - val_loss: 0.4678 - val_acc: 0.8045\n",
      "Epoch 100/100\n",
      "712/712 [==============================] - 1s 2ms/step - loss: 0.4777 - acc: 0.7556 - val_loss: 0.4500 - val_acc: 0.7933\n"
     ]
    }
   ],
   "source": [
    "history= model.fit(x_train1,y_train1,epochs=100, batch_size=1, validation_data=(x_test1,y_test1))"
   ]
  },
  {
   "cell_type": "code",
   "execution_count": 43,
   "metadata": {},
   "outputs": [
    {
     "data": {
      "image/png": "[encoded data removed]",
      "text/plain": [
       "<matplotlib.figure.Figure at 0x1cec2b49128>"
      ]
     },
     "metadata": {},
     "output_type": "display_data"
    },
    {
     "data": {
      "image/png": "[encoded data removed]",
      "text/plain": [
       "<matplotlib.figure.Figure at 0x1cec2f6b748>"
      ]
     },
     "metadata": {},
     "output_type": "display_data"
    }
   ],
   "source": [
    "import matplotlib.pyplot as plt\n",
    "# Loss Curves\n",
    "plt.figure(figsize=[8,6])\n",
    "plt.plot(history.history['loss'],'r',linewidth=3.0)\n",
    "plt.plot(history.history['val_loss'],'b',linewidth=3.0)\n",
    "plt.legend(['Training loss', 'Validation Loss'],fontsize=18)\n",
    "plt.xlabel('Epochs ',fontsize=16)\n",
    "plt.ylabel('Loss',fontsize=16)\n",
    "plt.title('Loss Curves',fontsize=16)\n",
    " \n",
    "# Accuracy Curves\n",
    "plt.figure(figsize=[8,6])\n",
    "plt.plot(history.history['acc'],'r',linewidth=3.0)\n",
    "plt.plot(history.history['val_acc'],'b',linewidth=3.0)\n",
    "plt.legend(['Training Accuracy', 'Validation Accuracy'],fontsize=18)\n",
    "plt.xlabel('Epochs ',fontsize=16)\n",
    "plt.ylabel('Accuracy',fontsize=16)\n",
    "plt.title('Accuracy Curves',fontsize=16)\n",
    "\n",
    "plt.show()"
   ]
  },
  {
   "cell_type": "code",
   "execution_count": 44,
   "metadata": {},
   "outputs": [
    {
     "data": {
      "text/plain": [
       "array([[ 0.17504771],\n",
       "       [ 0.2310701 ],\n",
       "       [ 0.09222458],\n",
       "       [ 0.18421204],\n",
       "       [ 0.33941224],\n",
       "       [ 0.28704819],\n",
       "       [ 0.71822256],\n",
       "       [ 0.22986452],\n",
       "       [ 0.6829564 ],\n",
       "       [ 0.17079878],\n",
       "       [ 0.18143509],\n",
       "       [ 0.23441808],\n",
       "       [ 0.95603186],\n",
       "       [ 0.12255057],\n",
       "       [ 0.93266976],\n",
       "       [ 0.87928301],\n",
       "       [ 0.22795254],\n",
       "       [ 0.21193042],\n",
       "       [ 0.33272308],\n",
       "       [ 0.35585296],\n",
       "       [ 0.25961345],\n",
       "       [ 0.5284369 ],\n",
       "       [ 0.9455446 ],\n",
       "       [ 0.56415206],\n",
       "       [ 0.98169035],\n",
       "       [ 0.10018791],\n",
       "       [ 0.96549869],\n",
       "       [ 0.20606606],\n",
       "       [ 0.26489738],\n",
       "       [ 0.15263397],\n",
       "       [ 0.15962185],\n",
       "       [ 0.22838639],\n",
       "       [ 0.28615037],\n",
       "       [ 0.32727554],\n",
       "       [ 0.35455164],\n",
       "       [ 0.22795695],\n",
       "       [ 0.43004414],\n",
       "       [ 0.50185651],\n",
       "       [ 0.19458908],\n",
       "       [ 0.39182293],\n",
       "       [ 0.14823379],\n",
       "       [ 0.3037475 ],\n",
       "       [ 0.13718542],\n",
       "       [ 0.80100107],\n",
       "       [ 0.93126023],\n",
       "       [ 0.18867439],\n",
       "       [ 0.25713369],\n",
       "       [ 0.20184359],\n",
       "       [ 0.9553284 ],\n",
       "       [ 0.29898274],\n",
       "       [ 0.40271083],\n",
       "       [ 0.25507933],\n",
       "       [ 0.78758508],\n",
       "       [ 0.97939175],\n",
       "       [ 0.25680429],\n",
       "       [ 0.13046591],\n",
       "       [ 0.15500735],\n",
       "       [ 0.18765594],\n",
       "       [ 0.16625611],\n",
       "       [ 0.98923242],\n",
       "       [ 0.21923089],\n",
       "       [ 0.22041352],\n",
       "       [ 0.21461321],\n",
       "       [ 0.76066947],\n",
       "       [ 0.98386854],\n",
       "       [ 0.82418746],\n",
       "       [ 0.76476723],\n",
       "       [ 0.26698855],\n",
       "       [ 0.30105206],\n",
       "       [ 0.96488899],\n",
       "       [ 0.75870651],\n",
       "       [ 0.20346867],\n",
       "       [ 0.40936634],\n",
       "       [ 0.30892712],\n",
       "       [ 0.98509234],\n",
       "       [ 0.82612836],\n",
       "       [ 0.18199095],\n",
       "       [ 0.82042629],\n",
       "       [ 0.22617304],\n",
       "       [ 0.75870651],\n",
       "       [ 0.60415357],\n",
       "       [ 0.70727873],\n",
       "       [ 0.22342969],\n",
       "       [ 0.18143509],\n",
       "       [ 0.25329381],\n",
       "       [ 0.1701438 ],\n",
       "       [ 0.74573821],\n",
       "       [ 0.58672339],\n",
       "       [ 0.74528235],\n",
       "       [ 0.6849485 ],\n",
       "       [ 0.43729189],\n",
       "       [ 0.18100052],\n",
       "       [ 0.93539131],\n",
       "       [ 0.18199095],\n",
       "       [ 0.32099152],\n",
       "       [ 0.18819536],\n",
       "       [ 0.87111992],\n",
       "       [ 0.17461778],\n",
       "       [ 0.52653807],\n",
       "       [ 0.16181071],\n",
       "       [ 0.9570328 ],\n",
       "       [ 0.23977382],\n",
       "       [ 0.20184359],\n",
       "       [ 0.18453288],\n",
       "       [ 0.6254192 ],\n",
       "       [ 0.23265891],\n",
       "       [ 0.23204647],\n",
       "       [ 0.20184359],\n",
       "       [ 0.18439426],\n",
       "       [ 0.27063894],\n",
       "       [ 0.20390829],\n",
       "       [ 0.74538547],\n",
       "       [ 0.959355  ],\n",
       "       [ 0.76381993],\n",
       "       [ 0.96726102],\n",
       "       [ 0.202336  ],\n",
       "       [ 0.18628678],\n",
       "       [ 0.79826951],\n",
       "       [ 0.44107854],\n",
       "       [ 0.80970371],\n",
       "       [ 0.84058785],\n",
       "       [ 0.15716758],\n",
       "       [ 0.96242046],\n",
       "       [ 0.17567033],\n",
       "       [ 0.20184359],\n",
       "       [ 0.58318794],\n",
       "       [ 0.19927546],\n",
       "       [ 0.70668477],\n",
       "       [ 0.18506955],\n",
       "       [ 0.19279253],\n",
       "       [ 0.16504404],\n",
       "       [ 0.22706196],\n",
       "       [ 0.50026244],\n",
       "       [ 0.14443102],\n",
       "       [ 0.13180922],\n",
       "       [ 0.19205485],\n",
       "       [ 0.19101883],\n",
       "       [ 0.24103123],\n",
       "       [ 0.47251511],\n",
       "       [ 0.12854825],\n",
       "       [ 0.29386985],\n",
       "       [ 0.96791571],\n",
       "       [ 0.81262136],\n",
       "       [ 0.27431619],\n",
       "       [ 0.25135657],\n",
       "       [ 0.09361944],\n",
       "       [ 0.38527897],\n",
       "       [ 0.20026065],\n",
       "       [ 0.3037475 ],\n",
       "       [ 0.2062555 ],\n",
       "       [ 0.96778274],\n",
       "       [ 0.19170555],\n",
       "       [ 0.16104934],\n",
       "       [ 0.28621927],\n",
       "       [ 0.09924172],\n",
       "       [ 0.19091308],\n",
       "       [ 0.98086011],\n",
       "       [ 0.47169554],\n",
       "       [ 0.25135657],\n",
       "       [ 0.44177336],\n",
       "       [ 0.74522334],\n",
       "       [ 0.57517308],\n",
       "       [ 0.81966108],\n",
       "       [ 0.17823191],\n",
       "       [ 0.18866301],\n",
       "       [ 0.37738571],\n",
       "       [ 0.28329229],\n",
       "       [ 0.17930368],\n",
       "       [ 0.96365619],\n",
       "       [ 0.48764366],\n",
       "       [ 0.18019333],\n",
       "       [ 0.18919817],\n",
       "       [ 0.17205493],\n",
       "       [ 0.1892138 ],\n",
       "       [ 0.08728594],\n",
       "       [ 0.86844873],\n",
       "       [ 0.84486353],\n",
       "       [ 0.25652084],\n",
       "       [ 0.72937453],\n",
       "       [ 0.94083285],\n",
       "       [ 0.22617304],\n",
       "       [ 0.36871171],\n",
       "       [ 0.95263678],\n",
       "       [ 0.20184359],\n",
       "       [ 0.99300569],\n",
       "       [ 0.19975865],\n",
       "       [ 0.81678504],\n",
       "       [ 0.13288316],\n",
       "       [ 0.15185224],\n",
       "       [ 0.19192004],\n",
       "       [ 0.21430072],\n",
       "       [ 0.30282336],\n",
       "       [ 0.25644264],\n",
       "       [ 0.14038415],\n",
       "       [ 0.74619889],\n",
       "       [ 0.16116793],\n",
       "       [ 0.96239263],\n",
       "       [ 0.58501756],\n",
       "       [ 0.24485272],\n",
       "       [ 0.43028736],\n",
       "       [ 0.76083243],\n",
       "       [ 0.83116645],\n",
       "       [ 0.81455892],\n",
       "       [ 0.86017942],\n",
       "       [ 0.2372596 ],\n",
       "       [ 0.3109639 ],\n",
       "       [ 0.65956062],\n",
       "       [ 0.24103571],\n",
       "       [ 0.96021891],\n",
       "       [ 0.18856603],\n",
       "       [ 0.21816847],\n",
       "       [ 0.17840955],\n",
       "       [ 0.55221683],\n",
       "       [ 0.44959769],\n",
       "       [ 0.08539521],\n",
       "       [ 0.28240946],\n",
       "       [ 0.74573821],\n",
       "       [ 0.54881823],\n",
       "       [ 0.97826296],\n",
       "       [ 0.18199095],\n",
       "       [ 0.84312212],\n",
       "       [ 0.20407523],\n",
       "       [ 0.82607293],\n",
       "       [ 0.20307603],\n",
       "       [ 0.93013042],\n",
       "       [ 0.56495333],\n",
       "       [ 0.1955286 ],\n",
       "       [ 0.74528235],\n",
       "       [ 0.160937  ],\n",
       "       [ 0.20512451],\n",
       "       [ 0.57685196],\n",
       "       [ 0.94865304],\n",
       "       [ 0.15402956],\n",
       "       [ 0.20234865],\n",
       "       [ 0.34236807],\n",
       "       [ 0.20716281],\n",
       "       [ 0.25733697],\n",
       "       [ 0.21590729],\n",
       "       [ 0.80679023],\n",
       "       [ 0.96583462],\n",
       "       [ 0.92516959],\n",
       "       [ 0.63436675],\n",
       "       [ 0.5927462 ],\n",
       "       [ 0.18140519],\n",
       "       [ 0.14761762],\n",
       "       [ 0.28371751],\n",
       "       [ 0.83524477],\n",
       "       [ 0.18496627],\n",
       "       [ 0.80970371],\n",
       "       [ 0.55426663],\n",
       "       [ 0.94214314],\n",
       "       [ 0.20744488],\n",
       "       [ 0.70938337],\n",
       "       [ 0.19764872],\n",
       "       [ 0.168284  ],\n",
       "       [ 0.18019333],\n",
       "       [ 0.20184359],\n",
       "       [ 0.17849663],\n",
       "       [ 0.8340705 ],\n",
       "       [ 0.20299444],\n",
       "       [ 0.14117616],\n",
       "       [ 0.20330527],\n",
       "       [ 0.76673508],\n",
       "       [ 0.78659207],\n",
       "       [ 0.23648329],\n",
       "       [ 0.18143509],\n",
       "       [ 0.05840634],\n",
       "       [ 0.18019333],\n",
       "       [ 0.43004414],\n",
       "       [ 0.22242911],\n",
       "       [ 0.34538025],\n",
       "       [ 0.20184359],\n",
       "       [ 0.97668082],\n",
       "       [ 0.72921503],\n",
       "       [ 0.18919817],\n",
       "       [ 0.83056742],\n",
       "       [ 0.22617736],\n",
       "       [ 0.19395022],\n",
       "       [ 0.21261023],\n",
       "       [ 0.24871029],\n",
       "       [ 0.47507983],\n",
       "       [ 0.67269462],\n",
       "       [ 0.74528235],\n",
       "       [ 0.75680035],\n",
       "       [ 0.79013675],\n",
       "       [ 0.14992848],\n",
       "       [ 0.17912138],\n",
       "       [ 0.45676357],\n",
       "       [ 0.1892138 ],\n",
       "       [ 0.18199095],\n",
       "       [ 0.33544666],\n",
       "       [ 0.71471131],\n",
       "       [ 0.1892138 ],\n",
       "       [ 0.28031632],\n",
       "       [ 0.15701427],\n",
       "       [ 0.184974  ],\n",
       "       [ 0.97403044],\n",
       "       [ 0.15263397],\n",
       "       [ 0.33581972],\n",
       "       [ 0.17437056],\n",
       "       [ 0.16412731],\n",
       "       [ 0.25511873],\n",
       "       [ 0.18350363],\n",
       "       [ 0.19511396],\n",
       "       [ 0.74528235],\n",
       "       [ 0.7618435 ],\n",
       "       [ 0.65841049],\n",
       "       [ 0.75957996],\n",
       "       [ 0.2929773 ],\n",
       "       [ 0.26682028],\n",
       "       [ 0.21836562],\n",
       "       [ 0.20800741],\n",
       "       [ 0.18028285],\n",
       "       [ 0.63103783],\n",
       "       [ 0.97095913],\n",
       "       [ 0.76708901],\n",
       "       [ 0.58714288],\n",
       "       [ 0.2605249 ],\n",
       "       [ 0.18128534],\n",
       "       [ 0.23682877],\n",
       "       [ 0.18453288],\n",
       "       [ 0.19657707],\n",
       "       [ 0.24103123],\n",
       "       [ 0.28424841],\n",
       "       [ 0.97649604],\n",
       "       [ 0.19270013],\n",
       "       [ 0.82446933],\n",
       "       [ 0.35966942],\n",
       "       [ 0.23228978],\n",
       "       [ 0.26052016],\n",
       "       [ 0.63705337],\n",
       "       [ 0.27775198],\n",
       "       [ 0.18919817],\n",
       "       [ 0.64306897],\n",
       "       [ 0.18143509],\n",
       "       [ 0.29320663],\n",
       "       [ 0.21899123],\n",
       "       [ 0.1132331 ],\n",
       "       [ 0.30508387],\n",
       "       [ 0.1892138 ],\n",
       "       [ 0.26454288],\n",
       "       [ 0.16347714],\n",
       "       [ 0.72992051],\n",
       "       [ 0.99820912],\n",
       "       [ 0.14054269],\n",
       "       [ 0.5964964 ],\n",
       "       [ 0.24103123],\n",
       "       [ 0.42258278],\n",
       "       [ 0.25025916],\n",
       "       [ 0.8149277 ],\n",
       "       [ 0.95757598],\n",
       "       [ 0.2372596 ],\n",
       "       [ 0.55124235],\n",
       "       [ 0.22886182],\n",
       "       [ 0.85645467],\n",
       "       [ 0.21984947],\n",
       "       [ 0.86389607],\n",
       "       [ 0.18137531],\n",
       "       [ 0.20184359],\n",
       "       [ 0.3594999 ],\n",
       "       [ 0.0675685 ],\n",
       "       [ 0.87279105],\n",
       "       [ 0.8149277 ],\n",
       "       [ 0.18421204],\n",
       "       [ 0.9672395 ],\n",
       "       [ 0.82214272],\n",
       "       [ 0.17015783],\n",
       "       [ 0.62798136],\n",
       "       [ 0.95656586],\n",
       "       [ 0.24366194],\n",
       "       [ 0.20970088],\n",
       "       [ 0.97649503],\n",
       "       [ 0.00688627],\n",
       "       [ 0.17804179],\n",
       "       [ 0.92735577],\n",
       "       [ 0.98781115],\n",
       "       [ 0.30455169],\n",
       "       [ 0.25575387],\n",
       "       [ 0.2550016 ],\n",
       "       [ 0.12614982],\n",
       "       [ 0.20184359],\n",
       "       [ 0.20619275],\n",
       "       [ 0.45675874],\n",
       "       [ 0.49359456],\n",
       "       [ 0.23688   ],\n",
       "       [ 0.82259697],\n",
       "       [ 0.1917571 ],\n",
       "       [ 0.13739198],\n",
       "       [ 0.23147115],\n",
       "       [ 0.13568196],\n",
       "       [ 0.58746117],\n",
       "       [ 0.89837974],\n",
       "       [ 0.56416178],\n",
       "       [ 0.15959677],\n",
       "       [ 0.09237771],\n",
       "       [ 0.95374554],\n",
       "       [ 0.21148734],\n",
       "       [ 0.95572865],\n",
       "       [ 0.19919501],\n",
       "       [ 0.18697047],\n",
       "       [ 0.97176319],\n",
       "       [ 0.18265481],\n",
       "       [ 0.96518797],\n",
       "       [ 0.55155325],\n",
       "       [ 0.22579464],\n",
       "       [ 0.27971897],\n",
       "       [ 0.19809021],\n",
       "       [ 0.775585  ],\n",
       "       [ 0.74517924],\n",
       "       [ 0.75377244],\n",
       "       [ 0.74528235],\n",
       "       [ 0.97936535],\n",
       "       [ 0.41888073],\n",
       "       [ 0.18199095],\n",
       "       [ 0.97198176],\n",
       "       [ 0.14254789],\n",
       "       [ 0.18199095],\n",
       "       [ 0.17471322]], dtype=float32)"
      ]
     },
     "execution_count": 44,
     "metadata": {},
     "output_type": "execute_result"
    }
   ],
   "source": [
    "model.predict(test_data)"
   ]
  }
 ],
 "metadata": {
  "kernelspec": {
   "display_name": "Python 3",
   "language": "python",
   "name": "python3"
  },
  "language_info": {
   "codemirror_mode": {
    "name": "ipython",
    "version": 3
   },
   "file_extension": ".py",
   "mimetype": "text/x-python",
   "name": "python",
   "nbconvert_exporter": "python",
   "pygments_lexer": "ipython3",
   "version": "3.6.3"
  }
 },
 "nbformat": 4,
 "nbformat_minor": 2
}
